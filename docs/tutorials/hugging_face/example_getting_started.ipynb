{
 "cells": [
  {
   "cell_type": "markdown",
   "id": "28c2e0bc",
   "metadata": {},
   "source": [
    "# Getting Started with Syne Tune"
   ]
  },
  {
   "cell_type": "markdown",
   "id": "9c773001",
   "metadata": {},
   "source": [
    "This notebook shows how to get started with Syne Tune. We will use a simple toy example here, for which tuning runs locally (and does not need a GPU)."
   ]
  },
  {
   "cell_type": "markdown",
   "id": "4eda7695",
   "metadata": {},
   "source": [
    "## Setup\n",
    "\n",
    "Install Syne Tune"
   ]
  },
  {
   "cell_type": "code",
   "execution_count": 5,
   "id": "98b10218",
   "metadata": {},
   "outputs": [
    {
     "name": "stdout",
     "output_type": "stream",
     "text": [
      "Requirement already satisfied: syne-tune in /home/ec2-user/develop/syne-tune (0.2)\n",
      "Requirement already satisfied: boto3 in /home/ec2-user/anaconda3/envs/python3/lib/python3.6/site-packages (from syne-tune) (1.21.24)\n",
      "Requirement already satisfied: sagemaker>=2.32.0 in /home/ec2-user/anaconda3/envs/python3/lib/python3.6/site-packages (from syne-tune) (2.80.0)\n",
      "Requirement already satisfied: dill in /home/ec2-user/anaconda3/envs/python3/lib/python3.6/site-packages (from syne-tune) (0.3.4)\n",
      "Requirement already satisfied: numpy>=1.16.0 in /home/ec2-user/anaconda3/envs/python3/lib/python3.6/site-packages (from syne-tune) (1.19.5)\n",
      "Requirement already satisfied: PyYaml in /home/ec2-user/anaconda3/envs/python3/lib/python3.6/site-packages (from syne-tune) (5.4.1)\n",
      "Requirement already satisfied: pandas in /home/ec2-user/anaconda3/envs/python3/lib/python3.6/site-packages (from syne-tune) (1.1.5)\n",
      "Requirement already satisfied: ujson in /home/ec2-user/anaconda3/envs/python3/lib/python3.6/site-packages (from syne-tune) (4.0.2)\n",
      "Requirement already satisfied: typing_extensions in /home/ec2-user/anaconda3/envs/python3/lib/python3.6/site-packages (from syne-tune) (3.10.0.2)\n",
      "Requirement already satisfied: pytest in /home/ec2-user/anaconda3/envs/python3/lib/python3.6/site-packages (from syne-tune) (6.2.2)\n",
      "Requirement already satisfied: protobuf3-to-dict>=0.1.5 in /home/ec2-user/anaconda3/envs/python3/lib/python3.6/site-packages (from sagemaker>=2.32.0->syne-tune) (0.1.5)\n",
      "Requirement already satisfied: pathos in /home/ec2-user/anaconda3/envs/python3/lib/python3.6/site-packages (from sagemaker>=2.32.0->syne-tune) (0.2.8)\n",
      "Requirement already satisfied: smdebug-rulesconfig==1.0.1 in /home/ec2-user/anaconda3/envs/python3/lib/python3.6/site-packages (from sagemaker>=2.32.0->syne-tune) (1.0.1)\n",
      "Requirement already satisfied: google-pasta in /home/ec2-user/anaconda3/envs/python3/lib/python3.6/site-packages (from sagemaker>=2.32.0->syne-tune) (0.2.0)\n",
      "Requirement already satisfied: packaging>=20.0 in /home/ec2-user/anaconda3/envs/python3/lib/python3.6/site-packages (from sagemaker>=2.32.0->syne-tune) (21.2)\n",
      "Requirement already satisfied: importlib-metadata>=1.4.0 in /home/ec2-user/anaconda3/envs/python3/lib/python3.6/site-packages (from sagemaker>=2.32.0->syne-tune) (4.8.2)\n",
      "Requirement already satisfied: attrs==20.3.0 in /home/ec2-user/anaconda3/envs/python3/lib/python3.6/site-packages (from sagemaker>=2.32.0->syne-tune) (20.3.0)\n",
      "Requirement already satisfied: protobuf>=3.1 in /home/ec2-user/anaconda3/envs/python3/lib/python3.6/site-packages (from sagemaker>=2.32.0->syne-tune) (3.19.1)\n",
      "Requirement already satisfied: jmespath<2.0.0,>=0.7.1 in /home/ec2-user/anaconda3/envs/python3/lib/python3.6/site-packages (from boto3->syne-tune) (0.10.0)\n",
      "Requirement already satisfied: botocore<1.25.0,>=1.24.24 in /home/ec2-user/anaconda3/envs/python3/lib/python3.6/site-packages (from boto3->syne-tune) (1.24.24)\n",
      "Requirement already satisfied: s3transfer<0.6.0,>=0.5.0 in /home/ec2-user/anaconda3/envs/python3/lib/python3.6/site-packages (from boto3->syne-tune) (0.5.0)\n",
      "Requirement already satisfied: urllib3<1.27,>=1.25.4 in /home/ec2-user/anaconda3/envs/python3/lib/python3.6/site-packages (from botocore<1.25.0,>=1.24.24->boto3->syne-tune) (1.26.7)\n",
      "Requirement already satisfied: python-dateutil<3.0.0,>=2.1 in /home/ec2-user/anaconda3/envs/python3/lib/python3.6/site-packages (from botocore<1.25.0,>=1.24.24->boto3->syne-tune) (2.8.2)\n",
      "Requirement already satisfied: zipp>=0.5 in /home/ec2-user/anaconda3/envs/python3/lib/python3.6/site-packages (from importlib-metadata>=1.4.0->sagemaker>=2.32.0->syne-tune) (3.6.0)\n",
      "Requirement already satisfied: pyparsing<3,>=2.0.2 in /home/ec2-user/anaconda3/envs/python3/lib/python3.6/site-packages (from packaging>=20.0->sagemaker>=2.32.0->syne-tune) (2.4.7)\n",
      "Requirement already satisfied: six in /home/ec2-user/anaconda3/envs/python3/lib/python3.6/site-packages (from protobuf3-to-dict>=0.1.5->sagemaker>=2.32.0->syne-tune) (1.16.0)\n",
      "Requirement already satisfied: pytz>=2017.2 in /home/ec2-user/anaconda3/envs/python3/lib/python3.6/site-packages (from pandas->syne-tune) (2021.3)\n",
      "Requirement already satisfied: pox>=0.3.0 in /home/ec2-user/anaconda3/envs/python3/lib/python3.6/site-packages (from pathos->sagemaker>=2.32.0->syne-tune) (0.3.0)\n",
      "Requirement already satisfied: ppft>=1.6.6.4 in /home/ec2-user/anaconda3/envs/python3/lib/python3.6/site-packages (from pathos->sagemaker>=2.32.0->syne-tune) (1.6.6.4)\n",
      "Requirement already satisfied: multiprocess>=0.70.12 in /home/ec2-user/anaconda3/envs/python3/lib/python3.6/site-packages (from pathos->sagemaker>=2.32.0->syne-tune) (0.70.12.2)\n",
      "Requirement already satisfied: iniconfig in /home/ec2-user/anaconda3/envs/python3/lib/python3.6/site-packages (from pytest->syne-tune) (1.1.1)\n",
      "Requirement already satisfied: pluggy<1.0.0a1,>=0.12 in /home/ec2-user/anaconda3/envs/python3/lib/python3.6/site-packages (from pytest->syne-tune) (0.13.1)\n",
      "Requirement already satisfied: py>=1.8.2 in /home/ec2-user/anaconda3/envs/python3/lib/python3.6/site-packages (from pytest->syne-tune) (1.10.0)\n",
      "Requirement already satisfied: toml in /home/ec2-user/anaconda3/envs/python3/lib/python3.6/site-packages (from pytest->syne-tune) (0.10.2)\n",
      "\u001b[33mWARNING: You are using pip version 21.2.4; however, version 21.3.1 is available.\n",
      "You should consider upgrading via the '/home/ec2-user/anaconda3/envs/python3/bin/python -m pip install --upgrade pip' command.\u001b[0m\n"
     ]
    }
   ],
   "source": [
    "!pip install 'syne-tune'"
   ]
  },
  {
   "cell_type": "markdown",
   "id": "b79bed35",
   "metadata": {},
   "source": [
    "This install a bare-bones version of Syne Tune, sufficient to run this notebook.\n",
    "* `pip install 'syne-tune'[gpsearchers]` installs a number of built-in Gaussian process HPO methods\n",
    "* `pip install 'syne-tune'[extra]` installs everything, including Ray (for Ray Tune optimizers)"
   ]
  },
  {
   "cell_type": "markdown",
   "id": "8fdfd8ca",
   "metadata": {},
   "source": [
    "## Training Script\n",
    "\n",
    "For a start, we need a training script, as will be familiar to SageMaker users. We will use `train_height.py`. Tuning is enabled by reporting metric values back to Syne Tune. If training is iterative, you should report at the end of each iteration (e.g., epoch in neural network training)."
   ]
  },
  {
   "cell_type": "code",
   "execution_count": null,
   "id": "3f65bf17",
   "metadata": {},
   "outputs": [],
   "source": [
    "# train_height.py\n",
    "import logging\n",
    "import time\n",
    "\n",
    "from syne_tune import Reporter\n",
    "from argparse import ArgumentParser\n",
    "\n",
    "if __name__ == '__main__':\n",
    "    root = logging.getLogger()\n",
    "    root.setLevel(logging.INFO)\n",
    "\n",
    "    parser = ArgumentParser()\n",
    "    parser.add_argument('--steps', type=int)\n",
    "    parser.add_argument('--width', type=float)\n",
    "    parser.add_argument('--height', type=float)\n",
    "\n",
    "    args, _ = parser.parse_known_args()\n",
    "    report = Reporter()\n",
    "\n",
    "    for step in range(args.steps):\n",
    "        mean_loss = (0.1 + args.width * step / 100) ** (-1) + args.height * 0.1\n",
    "        # Feed the score back to Syne Tune.\n",
    "        report(mean_loss=mean_loss, epoch=step + 1)\n",
    "        time.sleep(0.1)"
   ]
  },
  {
   "cell_type": "markdown",
   "id": "a0ead269",
   "metadata": {},
   "source": [
    "## Run Tuning Locally\n",
    "\n",
    "This script comes with hyperparameters `width` and `height`, whereas `steps` is the maximum number of iterations. While the training script provides the function to be tuned, we need to define a domain for the search. This is done by a *configuration space*.\n",
    "\n",
    "For each hyperparameter, we define a type and range. In our example, both `width` and `height` are integers uniformly distributed between 1 and 20."
   ]
  },
  {
   "cell_type": "code",
   "execution_count": 6,
   "id": "5b25ead3",
   "metadata": {},
   "outputs": [],
   "source": [
    "import logging\n",
    "\n",
    "from syne_tune import Tuner, StoppingCriterion\n",
    "from syne_tune.backend import LocalBackend\n",
    "from syne_tune.config_space import randint\n",
    "from syne_tune.optimizer.baselines import ASHA\n",
    "\n",
    "logging.getLogger().setLevel(logging.INFO)\n",
    "\n",
    "\n",
    "# Configuration space\n",
    "config_space = {\n",
    "    'width': randint(1, 20),\n",
    "    'height': randint(1, 20),\n",
    "    'steps': 100,\n",
    "}"
   ]
  },
  {
   "cell_type": "markdown",
   "id": "c6f94b0a",
   "metadata": {},
   "source": [
    "Next, we create the components required for tuning:\n",
    "* The trial backend executing the trainings. We use the local backend, which runs training jobs as subprocesses\n",
    "* The scheduler which contains the logic of the HPO algorithm. We use asynchronous successive halving\n",
    "* The tuner which coordinates these two, runs the experiments and records result data"
   ]
  },
  {
   "cell_type": "code",
   "execution_count": 7,
   "id": "d4646371",
   "metadata": {},
   "outputs": [
    {
     "name": "stderr",
     "output_type": "stream",
     "text": [
      "INFO:syne_tune.optimizer.schedulers.searchers.utils.default_arguments:scheduler_options: Key 'resume': Imputing default value False\n",
      "scheduler_options: Key 'grace_period': Imputing default value 1\n",
      "scheduler_options: Key 'reduction_factor': Imputing default value 3\n",
      "scheduler_options: Key 'brackets': Imputing default value 1\n",
      "scheduler_options: Key 'type': Imputing default value stopping\n",
      "scheduler_options: Key 'searcher_data': Imputing default value rungs\n",
      "scheduler_options: Key 'register_pending_myopic': Imputing default value False\n",
      "scheduler_options: Key 'do_snapshots': Imputing default value False\n",
      "scheduler_options: Key 'rung_system_per_bracket': Imputing default value False\n",
      "scheduler_options: Key 'rung_system_kwargs': Imputing default value {'cost_attr': 'elapsed_time', 'ranking_criterion': 'soft_ranking', 'epsilon': 1.0, 'epsilon_scaling': 1.0}\n",
      "INFO:syne_tune.optimizer.schedulers.fifo:max_resource_level = 100, as inferred from config_space\n",
      "INFO:syne_tune.optimizer.schedulers.fifo:Master random_seed = 2973349804\n",
      "INFO:syne_tune.tuner:results of trials will be saved on /home/ec2-user/syne-tune/train-height-2022-03-28-15-20-04-676\n",
      "INFO:root:Detected 2 GPUs\n",
      "INFO:root:running subprocess with command: /home/ec2-user/anaconda3/envs/python3/bin/python train_height.py --width 10 --height 10 --steps 100 --st_checkpoint_dir /home/ec2-user/syne-tune/train-height-2022-03-28-15-20-04-676/0/checkpoints\n",
      "INFO:syne_tune.tuner:(trial 0) - scheduled config {'width': 10, 'height': 10, 'steps': 100}\n",
      "INFO:root:running subprocess with command: /home/ec2-user/anaconda3/envs/python3/bin/python train_height.py --width 2 --height 12 --steps 100 --st_checkpoint_dir /home/ec2-user/syne-tune/train-height-2022-03-28-15-20-04-676/1/checkpoints\n",
      "INFO:syne_tune.tuner:(trial 1) - scheduled config {'width': 2, 'height': 12, 'steps': 100}\n",
      "INFO:root:running subprocess with command: /home/ec2-user/anaconda3/envs/python3/bin/python train_height.py --width 3 --height 19 --steps 100 --st_checkpoint_dir /home/ec2-user/syne-tune/train-height-2022-03-28-15-20-04-676/2/checkpoints\n",
      "INFO:syne_tune.tuner:(trial 2) - scheduled config {'width': 3, 'height': 19, 'steps': 100}\n",
      "INFO:root:running subprocess with command: /home/ec2-user/anaconda3/envs/python3/bin/python train_height.py --width 11 --height 14 --steps 100 --st_checkpoint_dir /home/ec2-user/syne-tune/train-height-2022-03-28-15-20-04-676/3/checkpoints\n",
      "INFO:syne_tune.tuner:(trial 3) - scheduled config {'width': 11, 'height': 14, 'steps': 100}\n",
      "INFO:root:running subprocess with command: /home/ec2-user/anaconda3/envs/python3/bin/python train_height.py --width 20 --height 17 --steps 100 --st_checkpoint_dir /home/ec2-user/syne-tune/train-height-2022-03-28-15-20-04-676/4/checkpoints\n",
      "INFO:syne_tune.tuner:(trial 4) - scheduled config {'width': 20, 'height': 17, 'steps': 100}\n",
      "INFO:root:running subprocess with command: /home/ec2-user/anaconda3/envs/python3/bin/python train_height.py --width 11 --height 7 --steps 100 --st_checkpoint_dir /home/ec2-user/syne-tune/train-height-2022-03-28-15-20-04-676/5/checkpoints\n",
      "INFO:syne_tune.tuner:(trial 5) - scheduled config {'width': 11, 'height': 7, 'steps': 100}\n",
      "INFO:root:running subprocess with command: /home/ec2-user/anaconda3/envs/python3/bin/python train_height.py --width 13 --height 4 --steps 100 --st_checkpoint_dir /home/ec2-user/syne-tune/train-height-2022-03-28-15-20-04-676/6/checkpoints\n",
      "INFO:syne_tune.tuner:(trial 6) - scheduled config {'width': 13, 'height': 4, 'steps': 100}\n",
      "INFO:root:running subprocess with command: /home/ec2-user/anaconda3/envs/python3/bin/python train_height.py --width 15 --height 20 --steps 100 --st_checkpoint_dir /home/ec2-user/syne-tune/train-height-2022-03-28-15-20-04-676/7/checkpoints\n",
      "INFO:syne_tune.tuner:(trial 7) - scheduled config {'width': 15, 'height': 20, 'steps': 100}\n",
      "INFO:syne_tune.tuner:Trial trial_id 0 completed.\n",
      "INFO:root:running subprocess with command: /home/ec2-user/anaconda3/envs/python3/bin/python train_height.py --width 6 --height 1 --steps 100 --st_checkpoint_dir /home/ec2-user/syne-tune/train-height-2022-03-28-15-20-04-676/8/checkpoints\n",
      "INFO:syne_tune.tuner:(trial 8) - scheduled config {'width': 6, 'height': 1, 'steps': 100}\n",
      "INFO:root:running subprocess with command: /home/ec2-user/anaconda3/envs/python3/bin/python train_height.py --width 5 --height 8 --steps 100 --st_checkpoint_dir /home/ec2-user/syne-tune/train-height-2022-03-28-15-20-04-676/9/checkpoints\n",
      "INFO:syne_tune.tuner:(trial 9) - scheduled config {'width': 5, 'height': 8, 'steps': 100}\n",
      "INFO:syne_tune.tuner:Trial trial_id 5 completed.\n",
      "INFO:syne_tune.tuner:Trial trial_id 6 completed.\n",
      "INFO:root:running subprocess with command: /home/ec2-user/anaconda3/envs/python3/bin/python train_height.py --width 19 --height 8 --steps 100 --st_checkpoint_dir /home/ec2-user/syne-tune/train-height-2022-03-28-15-20-04-676/10/checkpoints\n",
      "INFO:syne_tune.tuner:(trial 10) - scheduled config {'width': 19, 'height': 8, 'steps': 100}\n",
      "INFO:root:running subprocess with command: /home/ec2-user/anaconda3/envs/python3/bin/python train_height.py --width 20 --height 2 --steps 100 --st_checkpoint_dir /home/ec2-user/syne-tune/train-height-2022-03-28-15-20-04-676/11/checkpoints\n",
      "INFO:syne_tune.tuner:(trial 11) - scheduled config {'width': 20, 'height': 2, 'steps': 100}\n",
      "INFO:root:running subprocess with command: /home/ec2-user/anaconda3/envs/python3/bin/python train_height.py --width 11 --height 18 --steps 100 --st_checkpoint_dir /home/ec2-user/syne-tune/train-height-2022-03-28-15-20-04-676/12/checkpoints\n",
      "INFO:syne_tune.tuner:(trial 12) - scheduled config {'width': 11, 'height': 18, 'steps': 100}\n",
      "INFO:root:running subprocess with command: /home/ec2-user/anaconda3/envs/python3/bin/python train_height.py --width 5 --height 17 --steps 100 --st_checkpoint_dir /home/ec2-user/syne-tune/train-height-2022-03-28-15-20-04-676/13/checkpoints\n",
      "INFO:syne_tune.tuner:(trial 13) - scheduled config {'width': 5, 'height': 17, 'steps': 100}\n",
      "INFO:root:running subprocess with command: /home/ec2-user/anaconda3/envs/python3/bin/python train_height.py --width 6 --height 9 --steps 100 --st_checkpoint_dir /home/ec2-user/syne-tune/train-height-2022-03-28-15-20-04-676/14/checkpoints\n",
      "INFO:syne_tune.tuner:(trial 14) - scheduled config {'width': 6, 'height': 9, 'steps': 100}\n",
      "INFO:root:running subprocess with command: /home/ec2-user/anaconda3/envs/python3/bin/python train_height.py --width 7 --height 3 --steps 100 --st_checkpoint_dir /home/ec2-user/syne-tune/train-height-2022-03-28-15-20-04-676/15/checkpoints\n",
      "INFO:syne_tune.tuner:(trial 15) - scheduled config {'width': 7, 'height': 3, 'steps': 100}\n",
      "INFO:root:running subprocess with command: /home/ec2-user/anaconda3/envs/python3/bin/python train_height.py --width 13 --height 13 --steps 100 --st_checkpoint_dir /home/ec2-user/syne-tune/train-height-2022-03-28-15-20-04-676/16/checkpoints\n",
      "INFO:syne_tune.tuner:(trial 16) - scheduled config {'width': 13, 'height': 13, 'steps': 100}\n",
      "INFO:root:running subprocess with command: /home/ec2-user/anaconda3/envs/python3/bin/python train_height.py --width 11 --height 19 --steps 100 --st_checkpoint_dir /home/ec2-user/syne-tune/train-height-2022-03-28-15-20-04-676/17/checkpoints\n",
      "INFO:syne_tune.tuner:(trial 17) - scheduled config {'width': 11, 'height': 19, 'steps': 100}\n",
      "INFO:root:running subprocess with command: /home/ec2-user/anaconda3/envs/python3/bin/python train_height.py --width 18 --height 10 --steps 100 --st_checkpoint_dir /home/ec2-user/syne-tune/train-height-2022-03-28-15-20-04-676/18/checkpoints\n",
      "INFO:syne_tune.tuner:(trial 18) - scheduled config {'width': 18, 'height': 10, 'steps': 100}\n",
      "INFO:root:running subprocess with command: /home/ec2-user/anaconda3/envs/python3/bin/python train_height.py --width 9 --height 11 --steps 100 --st_checkpoint_dir /home/ec2-user/syne-tune/train-height-2022-03-28-15-20-04-676/19/checkpoints\n",
      "INFO:syne_tune.tuner:(trial 19) - scheduled config {'width': 9, 'height': 11, 'steps': 100}\n",
      "INFO:syne_tune.tuner:tuning status (last metric is reported)\n",
      " trial_id      status  iter  width  height  steps  step  mean_loss  epoch  worker-time\n",
      "        0   Completed   100     10      10    100  99.0   1.100000  100.0     9.930432\n",
      "        1     Stopped    37      2      12    100  36.0   2.419512   37.0     3.612111\n",
      "        2     Stopped    38      3      19    100  37.0   2.726446   38.0     3.711288\n",
      "        3     Stopped    37     11      14    100  36.0   1.646305   37.0     3.611176\n",
      "        4     Stopped    39     20      17    100  38.0   1.829870   39.0     3.811702\n",
      "        5   Completed   100     11       7    100  99.0   0.790992  100.0     9.929597\n",
      "        6   Completed   100     13       4    100  99.0   0.477101  100.0     9.931138\n",
      "        7     Stopped    43     15      20    100  42.0   2.156250   43.0     4.213685\n",
      "        8     Stopped    42      6       1    100  41.0   0.490625   42.0     4.113279\n",
      "        9     Stopped    42      5       8    100  41.0   1.265116   42.0     4.112620\n",
      "       10     Stopped    38     19       8    100  37.0   0.940252   38.0     3.712404\n",
      "       11  InProgress    90     20       2    100  89.0   0.255866   90.0     8.927979\n",
      "       12     Stopped    38     11      18    100  37.0   2.039808   38.0     3.711211\n",
      "       13     Stopped    38      5      17    100  37.0   2.212821   38.0     3.711333\n",
      "       16     Stopped    39     13      13    100  38.0   1.498413   39.0     3.811754\n",
      "       14     Stopped    43      6       9    100  42.0   1.281679   43.0     4.213311\n",
      "       15     Stopped    39      7       3    100  38.0   0.662319   39.0     3.811394\n",
      "       19  InProgress     0      9      11    100     -          -      -            -\n",
      "       17  InProgress     0     11      19    100     -          -      -            -\n",
      "       18  InProgress     0     18      10    100     -          -      -            -\n",
      "4 trials running, 16 finished (3 until the end), 35.55s wallclock-time\n",
      "\n",
      "INFO:syne_tune.tuner:Trial trial_id 11 completed.\n",
      "INFO:root:running subprocess with command: /home/ec2-user/anaconda3/envs/python3/bin/python train_height.py --width 9 --height 9 --steps 100 --st_checkpoint_dir /home/ec2-user/syne-tune/train-height-2022-03-28-15-20-04-676/20/checkpoints\n",
      "INFO:syne_tune.tuner:(trial 20) - scheduled config {'width': 9, 'height': 9, 'steps': 100}\n",
      "INFO:root:running subprocess with command: /home/ec2-user/anaconda3/envs/python3/bin/python train_height.py --width 16 --height 6 --steps 100 --st_checkpoint_dir /home/ec2-user/syne-tune/train-height-2022-03-28-15-20-04-676/21/checkpoints\n",
      "INFO:syne_tune.tuner:(trial 21) - scheduled config {'width': 16, 'height': 6, 'steps': 100}\n",
      "INFO:root:running subprocess with command: /home/ec2-user/anaconda3/envs/python3/bin/python train_height.py --width 9 --height 13 --steps 100 --st_checkpoint_dir /home/ec2-user/syne-tune/train-height-2022-03-28-15-20-04-676/22/checkpoints\n",
      "INFO:syne_tune.tuner:(trial 22) - scheduled config {'width': 9, 'height': 13, 'steps': 100}\n",
      "INFO:root:running subprocess with command: /home/ec2-user/anaconda3/envs/python3/bin/python train_height.py --width 15 --height 7 --steps 100 --st_checkpoint_dir /home/ec2-user/syne-tune/train-height-2022-03-28-15-20-04-676/23/checkpoints\n",
      "INFO:syne_tune.tuner:(trial 23) - scheduled config {'width': 15, 'height': 7, 'steps': 100}\n",
      "INFO:root:running subprocess with command: /home/ec2-user/anaconda3/envs/python3/bin/python train_height.py --width 15 --height 6 --steps 100 --st_checkpoint_dir /home/ec2-user/syne-tune/train-height-2022-03-28-15-20-04-676/24/checkpoints\n",
      "INFO:syne_tune.tuner:(trial 24) - scheduled config {'width': 15, 'height': 6, 'steps': 100}\n",
      "INFO:root:running subprocess with command: /home/ec2-user/anaconda3/envs/python3/bin/python train_height.py --width 17 --height 17 --steps 100 --st_checkpoint_dir /home/ec2-user/syne-tune/train-height-2022-03-28-15-20-04-676/25/checkpoints\n",
      "INFO:syne_tune.tuner:(trial 25) - scheduled config {'width': 17, 'height': 17, 'steps': 100}\n",
      "INFO:root:running subprocess with command: /home/ec2-user/anaconda3/envs/python3/bin/python train_height.py --width 10 --height 9 --steps 100 --st_checkpoint_dir /home/ec2-user/syne-tune/train-height-2022-03-28-15-20-04-676/26/checkpoints\n",
      "INFO:syne_tune.tuner:(trial 26) - scheduled config {'width': 10, 'height': 9, 'steps': 100}\n",
      "INFO:root:running subprocess with command: /home/ec2-user/anaconda3/envs/python3/bin/python train_height.py --width 9 --height 6 --steps 100 --st_checkpoint_dir /home/ec2-user/syne-tune/train-height-2022-03-28-15-20-04-676/27/checkpoints\n",
      "INFO:syne_tune.tuner:(trial 27) - scheduled config {'width': 9, 'height': 6, 'steps': 100}\n",
      "INFO:syne_tune.stopping_criterion:reaching max wallclock time (45), stopping there.\n",
      "INFO:syne_tune.tuner:Tuner finished, stopping trials that may still be running.\n"
     ]
    },
    {
     "name": "stdout",
     "output_type": "stream",
     "text": [
      "--------------------\n",
      "Resource summary (last result is reported):\n",
      " trial_id      status  iter  width  height  steps  step  mean_loss  epoch  worker-time\n",
      "        0   Completed   100     10      10    100  99.0   1.100000  100.0     9.930432\n",
      "        1     Stopped    37      2      12    100  36.0   2.419512   37.0     3.612111\n",
      "        2     Stopped    38      3      19    100  37.0   2.726446   38.0     3.711288\n",
      "        3     Stopped    37     11      14    100  36.0   1.646305   37.0     3.611176\n",
      "        4     Stopped    39     20      17    100  38.0   1.829870   39.0     3.811702\n",
      "        5   Completed   100     11       7    100  99.0   0.790992  100.0     9.929597\n",
      "        6   Completed   100     13       4    100  99.0   0.477101  100.0     9.931138\n",
      "        7     Stopped    43     15      20    100  42.0   2.156250   43.0     4.213685\n",
      "        8     Stopped    42      6       1    100  41.0   0.490625   42.0     4.113279\n",
      "        9     Stopped    42      5       8    100  41.0   1.265116   42.0     4.112620\n",
      "       10     Stopped    38     19       8    100  37.0   0.940252   38.0     3.712404\n",
      "       11   Completed   100     20       2    100  99.0   0.250251  100.0     9.931664\n",
      "       12     Stopped    38     11      18    100  37.0   2.039808   38.0     3.711211\n",
      "       13     Stopped    38      5      17    100  37.0   2.212821   38.0     3.711333\n",
      "       16     Stopped    39     13      13    100  38.0   1.498413   39.0     3.811754\n",
      "       14     Stopped    43      6       9    100  42.0   1.281679   43.0     4.213311\n",
      "       15     Stopped    39      7       3    100  38.0   0.662319   39.0     3.811394\n",
      "       19     Stopped    40      9      11    100  39.0   1.377008   40.0     3.912559\n",
      "       17     Stopped    43     11      19    100  42.0   2.111864   43.0     4.215500\n",
      "       18     Stopped    39     18      10    100  38.0   1.144092   39.0     3.813044\n",
      "       20     Stopped    38      9       9    100  37.0   1.191545   38.0     3.712848\n",
      "       21     Stopped    38     16       6    100  37.0   0.766113   38.0     3.711594\n",
      "       22     Stopped    38      9      13    100  37.0   1.591545   38.0     3.713240\n",
      "       23     Stopped    38     15       7    100  37.0   0.876991   38.0     3.711605\n",
      "       24  InProgress     0     15       6    100     -          -      -            -\n",
      "       25  InProgress     0     17      17    100     -          -      -            -\n",
      "       26  InProgress     0     10       9    100     -          -      -            -\n",
      "       27  InProgress     0      9       6    100     -          -      -            -\n",
      "4 trials running, 24 finished (4 until the end), 45.80s wallclock-time\n",
      "\n",
      "mean_loss: best 0.25025125628140704 for trial-id 11\n",
      "--------------------\n"
     ]
    }
   ],
   "source": [
    "trial_backend = LocalBackend(entry_point='train_height.py')\n",
    "\n",
    "scheduler = ASHA(\n",
    "    config_space,\n",
    "    metric='mean_loss',  # name of metric to tune\n",
    "    mode='min',  # should be minimized\n",
    "    resource_attr='epoch',  # name of resource parameter (epochs in our example)\n",
    "    max_resource_attr='steps',  # config_space attribute for maximum number of epochs\n",
    "    search_options={'debug_log': False},  # suppress verbose log output\n",
    ")\n",
    "\n",
    "tuner = Tuner(\n",
    "    trial_backend=trial_backend,\n",
    "    scheduler=scheduler,\n",
    "    stop_criterion=StoppingCriterion(max_wallclock_time=45),  # run for 45 secs\n",
    "    n_workers=4,  # how many trials are evaluated in parallel\n",
    ")\n",
    "\n",
    "tuner.run()"
   ]
  },
  {
   "cell_type": "markdown",
   "id": "5dbf3576",
   "metadata": {},
   "source": [
    "## Plot Results\n",
    "\n",
    "The results of an experiment are stored to a dataframe, which contains all metrics received (with time stamps) and their configurations. Based on this data, we can plot the best value found over time."
   ]
  },
  {
   "cell_type": "code",
   "execution_count": 8,
   "id": "632bd581",
   "metadata": {},
   "outputs": [
    {
     "name": "stderr",
     "output_type": "stream",
     "text": [
      "WARNING:matplotlib.legend:No handles with labels found to put in legend.\n"
     ]
    },
    {
     "data": {
      "image/png": "[encoded data removed]",
      "text/plain": [
       "<Figure size 432x288 with 1 Axes>"
      ]
     },
     "metadata": {
      "needs_background": "light"
     },
     "output_type": "display_data"
    }
   ],
   "source": [
    "from syne_tune.experiments import load_experiment\n",
    "\n",
    "tuning_experiment = load_experiment(tuner.name)\n",
    "tuning_experiment.plot()"
   ]
  },
  {
   "cell_type": "code",
   "execution_count": null,
   "id": "944821d0",
   "metadata": {},
   "outputs": [],
   "source": []
  }
 ],
 "metadata": {
  "kernelspec": {
   "display_name": "conda_python3",
   "language": "python",
   "name": "conda_python3"
  },
  "language_info": {
   "codemirror_mode": {
    "name": "ipython",
    "version": 3
   },
   "file_extension": ".py",
   "mimetype": "text/x-python",
   "name": "python",
   "nbconvert_exporter": "python",
   "pygments_lexer": "ipython3",
   "version": "3.6.13"
  }
 },
 "nbformat": 4,
 "nbformat_minor": 5
}
