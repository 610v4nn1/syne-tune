{
 "cells": [
  {
   "cell_type": "markdown",
   "id": "8892acbd",
   "metadata": {},
   "source": [
    "# Hyperparameter Optimization for fine-tuning pre-trained Transformer Models from HuggingFace"
   ]
  },
  {
   "cell_type": "markdown",
   "id": "cd6973c2",
   "metadata": {},
   "source": [
    "In this notebook, we will show how we can use Syne Tune to optimize the hyperparameters of pre-trained transformers\n",
    "from Hugging Face when we fine tune them on NLP datasets from the GLUE benchmark suite."
   ]
  },
  {
   "cell_type": "markdown",
   "id": "bb72cb25",
   "metadata": {},
   "source": [
    "## Setup"
   ]
  },
  {
   "cell_type": "markdown",
   "id": "0adbd432",
   "metadata": {},
   "source": [
    "Install Syne Tune"
   ]
  },
  {
   "cell_type": "code",
   "execution_count": 5,
   "id": "6cb6df07",
   "metadata": {},
   "outputs": [
    {
     "name": "stdout",
     "output_type": "stream",
     "text": [
      "Requirement already satisfied: syne-tune[extra] in /home/ec2-user/anaconda3/envs/python3/lib/python3.6/site-packages (0.12)\n",
      "Requirement already satisfied: pytest in /home/ec2-user/anaconda3/envs/python3/lib/python3.6/site-packages (from syne-tune[extra]) (6.2.2)\n",
      "Requirement already satisfied: PyYaml in /home/ec2-user/anaconda3/envs/python3/lib/python3.6/site-packages (from syne-tune[extra]) (5.4.1)\n",
      "Requirement already satisfied: boto3 in /home/ec2-user/anaconda3/envs/python3/lib/python3.6/site-packages (from syne-tune[extra]) (1.21.42)\n",
      "Requirement already satisfied: typing-extensions in /home/ec2-user/anaconda3/envs/python3/lib/python3.6/site-packages (from syne-tune[extra]) (4.0.1)\n",
      "Requirement already satisfied: ujson in /home/ec2-user/anaconda3/envs/python3/lib/python3.6/site-packages (from syne-tune[extra]) (4.0.2)\n",
      "Requirement already satisfied: dill in /home/ec2-user/anaconda3/envs/python3/lib/python3.6/site-packages (from syne-tune[extra]) (0.3.4)\n",
      "Requirement already satisfied: pandas in /home/ec2-user/anaconda3/envs/python3/lib/python3.6/site-packages (from syne-tune[extra]) (1.1.5)\n",
      "Requirement already satisfied: numpy>=1.16.0 in /home/ec2-user/anaconda3/envs/python3/lib/python3.6/site-packages (from syne-tune[extra]) (1.19.5)\n",
      "Requirement already satisfied: sagemaker>=2.32.0 in /home/ec2-user/anaconda3/envs/python3/lib/python3.6/site-packages (from syne-tune[extra]) (2.86.2)\n",
      "Requirement already satisfied: h5py in /home/ec2-user/anaconda3/envs/python3/lib/python3.6/site-packages (from syne-tune[extra]) (3.1.0)\n",
      "Requirement already satisfied: s3fs in /home/ec2-user/anaconda3/envs/python3/lib/python3.6/site-packages (from syne-tune[extra]) (2021.4.0)\n",
      "Collecting fastparquet\n",
      "  Downloading fastparquet-0.8.0.tar.gz (400 kB)\n",
      "     |████████████████████████████████| 400 kB 6.7 MB/s            \n",
      "\u001b[?25h  Preparing metadata (setup.py) ... \u001b[?25ldone\n",
      "\u001b[?25hRequirement already satisfied: sklearn in /home/ec2-user/anaconda3/envs/python3/lib/python3.6/site-packages (from syne-tune[extra]) (0.0)\n",
      "Collecting autograd>=1.3\n",
      "  Downloading autograd-1.4-py3-none-any.whl (48 kB)\n",
      "     |████████████████████████████████| 48 kB 10.9 MB/s            \n",
      "\u001b[?25hCollecting torchvision\n",
      "  Downloading torchvision-0.11.2-cp36-cp36m-manylinux1_x86_64.whl (23.3 MB)\n",
      "     |████████████████████████████████| 23.3 MB 52.4 MB/s            \n",
      "\u001b[?25hRequirement already satisfied: requests in /home/ec2-user/anaconda3/envs/python3/lib/python3.6/site-packages (from syne-tune[extra]) (2.26.0)\n",
      "Collecting scikit-optimize\n",
      "  Downloading scikit_optimize-0.9.0-py2.py3-none-any.whl (100 kB)\n",
      "     |████████████████████████████████| 100 kB 17.0 MB/s           \n",
      "\u001b[?25hCollecting ray[tune]\n",
      "  Downloading ray-1.13.0-cp36-cp36m-manylinux2014_x86_64.whl (54.5 MB)\n",
      "     |████████████████████████████████| 54.5 MB 118 kB/s             \n",
      "\u001b[?25hRequirement already satisfied: tqdm in /home/ec2-user/anaconda3/envs/python3/lib/python3.6/site-packages (from syne-tune[extra]) (4.49.0)\n",
      "Requirement already satisfied: torch in /home/ec2-user/anaconda3/envs/python3/lib/python3.6/site-packages (from syne-tune[extra]) (1.10.0)\n",
      "Requirement already satisfied: filelock in /home/ec2-user/anaconda3/envs/python3/lib/python3.6/site-packages (from syne-tune[extra]) (3.0.12)\n",
      "Requirement already satisfied: scipy>=1.3.3 in /home/ec2-user/anaconda3/envs/python3/lib/python3.6/site-packages (from syne-tune[extra]) (1.5.3)\n",
      "Requirement already satisfied: statsmodels in /home/ec2-user/anaconda3/envs/python3/lib/python3.6/site-packages (from syne-tune[extra]) (0.12.2)\n",
      "Requirement already satisfied: future>=0.15.2 in /home/ec2-user/anaconda3/envs/python3/lib/python3.6/site-packages (from autograd>=1.3->syne-tune[extra]) (0.18.2)\n",
      "Requirement already satisfied: protobuf>=3.1 in /home/ec2-user/anaconda3/envs/python3/lib/python3.6/site-packages (from sagemaker>=2.32.0->syne-tune[extra]) (3.15.2)\n",
      "Requirement already satisfied: importlib-metadata>=1.4.0 in /home/ec2-user/anaconda3/envs/python3/lib/python3.6/site-packages (from sagemaker>=2.32.0->syne-tune[extra]) (3.7.0)\n",
      "Requirement already satisfied: pathos in /home/ec2-user/anaconda3/envs/python3/lib/python3.6/site-packages (from sagemaker>=2.32.0->syne-tune[extra]) (0.2.8)\n",
      "Requirement already satisfied: attrs==20.3.0 in /home/ec2-user/anaconda3/envs/python3/lib/python3.6/site-packages (from sagemaker>=2.32.0->syne-tune[extra]) (20.3.0)\n",
      "Requirement already satisfied: protobuf3-to-dict>=0.1.5 in /home/ec2-user/anaconda3/envs/python3/lib/python3.6/site-packages (from sagemaker>=2.32.0->syne-tune[extra]) (0.1.5)\n",
      "Requirement already satisfied: google-pasta in /home/ec2-user/anaconda3/envs/python3/lib/python3.6/site-packages (from sagemaker>=2.32.0->syne-tune[extra]) (0.2.0)\n",
      "Requirement already satisfied: packaging>=20.0 in /home/ec2-user/anaconda3/envs/python3/lib/python3.6/site-packages (from sagemaker>=2.32.0->syne-tune[extra]) (21.3)\n",
      "Requirement already satisfied: smdebug-rulesconfig==1.0.1 in /home/ec2-user/anaconda3/envs/python3/lib/python3.6/site-packages (from sagemaker>=2.32.0->syne-tune[extra]) (1.0.1)\n",
      "Requirement already satisfied: botocore<1.25.0,>=1.24.42 in /home/ec2-user/anaconda3/envs/python3/lib/python3.6/site-packages (from boto3->syne-tune[extra]) (1.24.42)\n",
      "Requirement already satisfied: s3transfer<0.6.0,>=0.5.0 in /home/ec2-user/anaconda3/envs/python3/lib/python3.6/site-packages (from boto3->syne-tune[extra]) (0.5.0)\n",
      "Requirement already satisfied: jmespath<2.0.0,>=0.7.1 in /home/ec2-user/anaconda3/envs/python3/lib/python3.6/site-packages (from boto3->syne-tune[extra]) (0.10.0)\n",
      "Collecting cramjam>=2.3.0\n",
      "  Downloading cramjam-2.5.0-cp36-cp36m-manylinux_2_5_x86_64.manylinux1_x86_64.whl (1.6 MB)\n",
      "     |████████████████████████████████| 1.6 MB 46.5 MB/s            \n",
      "\u001b[?25hRequirement already satisfied: fsspec in /home/ec2-user/anaconda3/envs/python3/lib/python3.6/site-packages (from fastparquet->syne-tune[extra]) (2021.4.0)\n",
      "Requirement already satisfied: python-dateutil>=2.7.3 in /home/ec2-user/anaconda3/envs/python3/lib/python3.6/site-packages (from pandas->syne-tune[extra]) (2.8.1)\n",
      "Requirement already satisfied: pytz>=2017.2 in /home/ec2-user/anaconda3/envs/python3/lib/python3.6/site-packages (from pandas->syne-tune[extra]) (2021.1)\n",
      "Requirement already satisfied: cached-property in /home/ec2-user/anaconda3/envs/python3/lib/python3.6/site-packages (from h5py->syne-tune[extra]) (1.5.1)\n",
      "Requirement already satisfied: iniconfig in /home/ec2-user/anaconda3/envs/python3/lib/python3.6/site-packages (from pytest->syne-tune[extra]) (1.1.1)\n",
      "Requirement already satisfied: pluggy<1.0.0a1,>=0.12 in /home/ec2-user/anaconda3/envs/python3/lib/python3.6/site-packages (from pytest->syne-tune[extra]) (0.13.1)\n",
      "Requirement already satisfied: py>=1.8.2 in /home/ec2-user/anaconda3/envs/python3/lib/python3.6/site-packages (from pytest->syne-tune[extra]) (1.10.0)\n",
      "Requirement already satisfied: toml in /home/ec2-user/anaconda3/envs/python3/lib/python3.6/site-packages (from pytest->syne-tune[extra]) (0.10.2)\n",
      "Requirement already satisfied: dataclasses in /home/ec2-user/anaconda3/envs/python3/lib/python3.6/site-packages (from ray[tune]->syne-tune[extra]) (0.8)\n",
      "Requirement already satisfied: msgpack<2.0.0,>=1.0.0 in /home/ec2-user/anaconda3/envs/python3/lib/python3.6/site-packages (from ray[tune]->syne-tune[extra]) (1.0.2)\n",
      "Requirement already satisfied: aiosignal in /home/ec2-user/anaconda3/envs/python3/lib/python3.6/site-packages (from ray[tune]->syne-tune[extra]) (1.2.0)\n",
      "Collecting protobuf>=3.1\n",
      "  Downloading protobuf-3.19.4-cp36-cp36m-manylinux_2_17_x86_64.manylinux2014_x86_64.whl (1.1 MB)\n",
      "     |████████████████████████████████| 1.1 MB 58.7 MB/s            \n",
      "\u001b[?25hCollecting grpcio<=1.43.0,>=1.28.1\n",
      "  Downloading grpcio-1.43.0-cp36-cp36m-manylinux_2_17_x86_64.manylinux2014_x86_64.whl (4.1 MB)\n",
      "     |████████████████████████████████| 4.1 MB 67.9 MB/s            \n",
      "\u001b[?25hCollecting virtualenv\n",
      "  Downloading virtualenv-20.15.1-py2.py3-none-any.whl (10.1 MB)\n",
      "     |████████████████████████████████| 10.1 MB 41.2 MB/s            \n",
      "\u001b[?25hRequirement already satisfied: click<=8.0.4,>=7.0 in /home/ec2-user/anaconda3/envs/python3/lib/python3.6/site-packages (from ray[tune]->syne-tune[extra]) (7.1.2)\n",
      "Requirement already satisfied: jsonschema in /home/ec2-user/anaconda3/envs/python3/lib/python3.6/site-packages (from ray[tune]->syne-tune[extra]) (3.2.0)\n",
      "Requirement already satisfied: frozenlist in /home/ec2-user/anaconda3/envs/python3/lib/python3.6/site-packages (from ray[tune]->syne-tune[extra]) (1.2.0)\n",
      "Requirement already satisfied: tabulate in /home/ec2-user/anaconda3/envs/python3/lib/python3.6/site-packages (from ray[tune]->syne-tune[extra]) (0.8.9)\n",
      "Collecting tensorboardX>=1.9\n",
      "  Downloading tensorboardX-2.5.1-py2.py3-none-any.whl (125 kB)\n",
      "     |████████████████████████████████| 125 kB 100.9 MB/s            \n",
      "\u001b[?25hRequirement already satisfied: idna<4,>=2.5 in /home/ec2-user/anaconda3/envs/python3/lib/python3.6/site-packages (from requests->syne-tune[extra]) (3.1)\n",
      "Requirement already satisfied: certifi>=2017.4.17 in /home/ec2-user/anaconda3/envs/python3/lib/python3.6/site-packages (from requests->syne-tune[extra]) (2021.5.30)\n",
      "Requirement already satisfied: urllib3<1.27,>=1.21.1 in /home/ec2-user/anaconda3/envs/python3/lib/python3.6/site-packages (from requests->syne-tune[extra]) (1.26.8)\n",
      "Requirement already satisfied: charset-normalizer~=2.0.0 in /home/ec2-user/anaconda3/envs/python3/lib/python3.6/site-packages (from requests->syne-tune[extra]) (2.0.9)\n",
      "Requirement already satisfied: aiobotocore>=1.0.1 in /home/ec2-user/anaconda3/envs/python3/lib/python3.6/site-packages (from s3fs->syne-tune[extra]) (1.3.0)\n",
      "Collecting pyaml>=16.9\n",
      "  Downloading pyaml-21.10.1-py2.py3-none-any.whl (24 kB)\n",
      "Requirement already satisfied: scikit-learn>=0.20.0 in /home/ec2-user/anaconda3/envs/python3/lib/python3.6/site-packages (from scikit-optimize->syne-tune[extra]) (0.24.1)\n",
      "Requirement already satisfied: joblib>=0.11 in /home/ec2-user/anaconda3/envs/python3/lib/python3.6/site-packages (from scikit-optimize->syne-tune[extra]) (1.0.1)\n",
      "Requirement already satisfied: patsy>=0.5 in /home/ec2-user/anaconda3/envs/python3/lib/python3.6/site-packages (from statsmodels->syne-tune[extra]) (0.5.1)\n",
      "Requirement already satisfied: pillow!=8.3.0,>=5.3.0 in /home/ec2-user/anaconda3/envs/python3/lib/python3.6/site-packages (from torchvision->syne-tune[extra]) (8.4.0)\n",
      "Collecting torch\n",
      "  Downloading torch-1.10.1-cp36-cp36m-manylinux1_x86_64.whl (881.9 MB)\n",
      "     |████████████████████████████████| 881.9 MB 6.9 kB/s              \n",
      "\u001b[?25hRequirement already satisfied: aioitertools>=0.5.1 in /home/ec2-user/anaconda3/envs/python3/lib/python3.6/site-packages (from aiobotocore>=1.0.1->s3fs->syne-tune[extra]) (0.7.1)\n",
      "Requirement already satisfied: aiohttp>=3.3.1 in /home/ec2-user/anaconda3/envs/python3/lib/python3.6/site-packages (from aiobotocore>=1.0.1->s3fs->syne-tune[extra]) (3.8.1)\n",
      "Collecting aiobotocore>=1.0.1\n",
      "  Downloading aiobotocore-2.3.4-py3-none-any.whl (64 kB)\n",
      "     |████████████████████████████████| 64 kB 293 kB/s             \n",
      "\u001b[?25h  Downloading aiobotocore-2.3.3.tar.gz (65 kB)\n",
      "     |████████████████████████████████| 65 kB 455 kB/s             \n",
      "\u001b[?25h  Preparing metadata (setup.py) ... \u001b[?25ldone\n",
      "\u001b[?25h  Downloading aiobotocore-2.3.2.tar.gz (104 kB)\n",
      "     |████████████████████████████████| 104 kB 68.2 MB/s            \n",
      "\u001b[?25h  Preparing metadata (setup.py) ... \u001b[?25ldone\n",
      "\u001b[?25h  Downloading aiobotocore-2.3.1.tar.gz (65 kB)\n",
      "     |████████████████████████████████| 65 kB 313 kB/s             \n",
      "\u001b[?25h  Preparing metadata (setup.py) ... \u001b[?25ldone\n",
      "\u001b[?25h  Downloading aiobotocore-2.3.0.tar.gz (65 kB)\n",
      "     |████████████████████████████████| 65 kB 534 kB/s             \n",
      "\u001b[?25h  Preparing metadata (setup.py) ... \u001b[?25ldone\n",
      "\u001b[?25h  Downloading aiobotocore-2.2.0.tar.gz (59 kB)\n",
      "     |████████████████████████████████| 59 kB 749 kB/s             \n",
      "\u001b[?25h  Preparing metadata (setup.py) ... \u001b[?25ldone\n",
      "\u001b[?25h  Downloading aiobotocore-2.1.2.tar.gz (58 kB)\n",
      "     |████████████████████████████████| 58 kB 1.3 MB/s             \n",
      "\u001b[?25h  Preparing metadata (setup.py) ... \u001b[?25ldone\n",
      "\u001b[?25h  Downloading aiobotocore-2.1.1.tar.gz (57 kB)\n",
      "     |████████████████████████████████| 57 kB 503 kB/s             \n",
      "\u001b[?25h  Preparing metadata (setup.py) ... \u001b[?25ldone\n",
      "\u001b[?25h  Downloading aiobotocore-2.1.0.tar.gz (54 kB)\n",
      "     |████████████████████████████████| 54 kB 266 kB/s             \n",
      "\u001b[?25h  Preparing metadata (setup.py) ... \u001b[?25ldone\n",
      "\u001b[?25h  Downloading aiobotocore-2.0.1.tar.gz (54 kB)\n",
      "     |████████████████████████████████| 54 kB 376 kB/s             \n",
      "\u001b[?25h  Preparing metadata (setup.py) ... \u001b[?25ldone\n",
      "\u001b[?25h  Downloading aiobotocore-2.0.0.tar.gz (52 kB)\n",
      "     |████████████████████████████████| 52 kB 87 kB/s              \n",
      "\u001b[?25h  Preparing metadata (setup.py) ... \u001b[?25ldone\n",
      "\u001b[?25h  Downloading aiobotocore-1.4.2.tar.gz (52 kB)\n",
      "     |████████████████████████████████| 52 kB 102 kB/s             \n",
      "\u001b[?25h  Preparing metadata (setup.py) ... \u001b[?25ldone\n",
      "\u001b[?25h  Downloading aiobotocore-1.4.1.tar.gz (52 kB)\n",
      "     |████████████████████████████████| 52 kB 257 kB/s             \n",
      "\u001b[?25h  Preparing metadata (setup.py) ... \u001b[?25ldone\n",
      "\u001b[?25h  Downloading aiobotocore-1.4.0.tar.gz (51 kB)\n",
      "     |████████████████████████████████| 51 kB 714 kB/s             \n",
      "\u001b[?25h  Preparing metadata (setup.py) ... \u001b[?25ldone\n",
      "\u001b[?25h  Downloading aiobotocore-1.3.3.tar.gz (50 kB)\n",
      "     |████████████████████████████████| 50 kB 1.7 MB/s             \n",
      "\u001b[?25h  Preparing metadata (setup.py) ... \u001b[?25ldone\n",
      "\u001b[?25h  Downloading aiobotocore-1.3.2.tar.gz (49 kB)\n",
      "     |████████████████████████████████| 49 kB 1.6 MB/s             \n",
      "\u001b[?25h  Preparing metadata (setup.py) ... \u001b[?25ldone\n",
      "\u001b[?25h  Downloading aiobotocore-1.3.1.tar.gz (48 kB)\n",
      "     |████████████████████████████████| 48 kB 4.3 MB/s             \n",
      "\u001b[?25h  Preparing metadata (setup.py) ... \u001b[?25ldone\n",
      "\u001b[?25h  Downloading aiobotocore-1.2.2.tar.gz (48 kB)\n",
      "     |████████████████████████████████| 48 kB 1.6 MB/s             \n",
      "\u001b[?25h  Preparing metadata (setup.py) ... \u001b[?25ldone\n",
      "\u001b[?25h  Downloading aiobotocore-1.2.1.tar.gz (48 kB)\n",
      "     |████████████████████████████████| 48 kB 8.4 MB/s             \n",
      "\u001b[?25h  Preparing metadata (setup.py) ... \u001b[?25ldone\n",
      "\u001b[?25h  Downloading aiobotocore-1.2.0.tar.gz (47 kB)\n",
      "     |████████████████████████████████| 47 kB 7.0 MB/s             \n",
      "\u001b[?25h  Preparing metadata (setup.py) ... \u001b[?25ldone\n",
      "\u001b[?25h  Downloading aiobotocore-1.1.2-py3-none-any.whl (45 kB)\n",
      "     |████████████████████████████████| 45 kB 5.0 MB/s             \n",
      "\u001b[?25h  Downloading aiobotocore-1.1.1-py3-none-any.whl (45 kB)\n",
      "     |████████████████████████████████| 45 kB 5.5 MB/s             \n",
      "\u001b[?25h  Downloading aiobotocore-1.1.0-py3-none-any.whl (43 kB)\n",
      "     |████████████████████████████████| 43 kB 3.8 MB/s             \n",
      "\u001b[?25h  Downloading aiobotocore-1.0.7-py3-none-any.whl (42 kB)\n",
      "     |████████████████████████████████| 42 kB 413 kB/s             \n",
      "\u001b[?25h  Downloading aiobotocore-1.0.6-py3-none-any.whl (42 kB)\n",
      "     |████████████████████████████████| 42 kB 1.7 MB/s             \n",
      "\u001b[?25h  Downloading aiobotocore-1.0.5-py3-none-any.whl (42 kB)\n",
      "     |████████████████████████████████| 42 kB 2.0 MB/s             \n",
      "\u001b[?25h  Downloading aiobotocore-1.0.4-py3-none-any.whl (41 kB)\n",
      "     |████████████████████████████████| 41 kB 973 kB/s             \n",
      "\u001b[?25h  Downloading aiobotocore-1.0.3-py3-none-any.whl (40 kB)\n",
      "     |████████████████████████████████| 40 kB 9.7 MB/s             \n",
      "\u001b[?25h  Downloading aiobotocore-1.0.2-py3-none-any.whl (40 kB)\n",
      "     |████████████████████████████████| 40 kB 813 kB/s             \n",
      "\u001b[?25h  Downloading aiobotocore-1.0.1-py3-none-any.whl (40 kB)\n",
      "     |████████████████████████████████| 40 kB 9.4 MB/s             \n",
      "\u001b[?25hINFO: pip is looking at multiple versions of ujson to determine which version is compatible with other requirements. This could take a while.\n",
      "Collecting ujson\n",
      "  Downloading ujson-4.3.0-cp36-cp36m-manylinux_2_17_x86_64.manylinux2014_x86_64.whl (216 kB)\n",
      "     |████████████████████████████████| 216 kB 91.3 MB/s            \n",
      "\u001b[?25hINFO: pip is looking at multiple versions of typing-extensions to determine which version is compatible with other requirements. This could take a while.\n",
      "Collecting typing-extensions\n",
      "  Downloading typing_extensions-4.1.1-py3-none-any.whl (26 kB)\n",
      "INFO: pip is looking at multiple versions of tqdm to determine which version is compatible with other requirements. This could take a while.\n",
      "Collecting tqdm\n",
      "  Downloading tqdm-4.64.0-py2.py3-none-any.whl (78 kB)\n",
      "     |████████████████████████████████| 78 kB 15.0 MB/s            \n",
      "\u001b[?25hINFO: pip is looking at multiple versions of torch to determine which version is compatible with other requirements. This could take a while.\n",
      "INFO: pip is looking at multiple versions of torchvision to determine which version is compatible with other requirements. This could take a while.\n",
      "Collecting torchvision\n",
      "  Downloading torchvision-0.11.1-cp36-cp36m-manylinux1_x86_64.whl (23.3 MB)\n",
      "     |████████████████████████████████| 23.3 MB 32.5 MB/s            \n",
      "\u001b[?25hCollecting torch\n",
      "  Downloading torch-1.10.2-cp36-cp36m-manylinux1_x86_64.whl (881.9 MB)\n",
      "     |████████████████████████████████| 881.9 MB 6.9 kB/s              \n",
      "\u001b[?25hINFO: pip is looking at multiple versions of syne-tune to determine which version is compatible with other requirements. This could take a while.\n",
      "INFO: pip is looking at multiple versions of statsmodels to determine which version is compatible with other requirements. This could take a while.\n",
      "Collecting statsmodels\n",
      "  Downloading statsmodels-0.12.2-cp36-cp36m-manylinux1_x86_64.whl (9.5 MB)\n",
      "     |████████████████████████████████| 9.5 MB 92.0 MB/s            \n",
      "\u001b[?25hINFO: pip is looking at multiple versions of sklearn to determine which version is compatible with other requirements. This could take a while.\n",
      "Collecting sklearn\n",
      "  Downloading sklearn-0.0.tar.gz (1.1 kB)\n",
      "  Preparing metadata (setup.py) ... \u001b[?25ldone\n",
      "\u001b[?25hINFO: pip is looking at multiple versions of scikit-optimize to determine which version is compatible with other requirements. This could take a while.\n",
      "Collecting scikit-optimize\n",
      "  Downloading scikit_optimize-0.8.1-py2.py3-none-any.whl (101 kB)\n",
      "     |████████████████████████████████| 101 kB 1.1 MB/s            \n",
      "\u001b[?25hINFO: pip is looking at multiple versions of fsspec to determine which version is compatible with other requirements. This could take a while.\n",
      "Collecting fsspec\n",
      "  Downloading fsspec-2021.4.0-py3-none-any.whl (108 kB)\n",
      "     |████████████████████████████████| 108 kB 111.0 MB/s            \n",
      "\u001b[?25hINFO: pip is looking at multiple versions of s3fs to determine which version is compatible with other requirements. This could take a while.\n",
      "Collecting s3fs\n",
      "  Downloading s3fs-2022.1.0-py3-none-any.whl (25 kB)\n",
      "Collecting fsspec\n",
      "  Downloading fsspec-2022.1.0-py3-none-any.whl (133 kB)\n",
      "     |████████████████████████████████| 133 kB 114.3 MB/s            \n",
      "\u001b[?25hCollecting s3fs\n",
      "  Downloading s3fs-2021.11.1-py3-none-any.whl (25 kB)\n",
      "Collecting fsspec\n",
      "  Downloading fsspec-2021.11.1-py3-none-any.whl (132 kB)\n",
      "     |████████████████████████████████| 132 kB 109.8 MB/s            \n",
      "\u001b[?25hCollecting s3fs\n",
      "  Downloading s3fs-2021.11.0-py3-none-any.whl (25 kB)\n",
      "Collecting fsspec\n",
      "  Downloading fsspec-2021.11.0-py3-none-any.whl (132 kB)\n",
      "     |████████████████████████████████| 132 kB 111.3 MB/s            \n",
      "\u001b[?25hCollecting s3fs\n",
      "  Downloading s3fs-2021.10.1-py3-none-any.whl (26 kB)\n",
      "Collecting fsspec\n",
      "  Downloading fsspec-2021.10.1-py3-none-any.whl (125 kB)\n",
      "     |████████████████████████████████| 125 kB 96.6 MB/s            \n",
      "\u001b[?25hCollecting s3fs\n",
      "  Downloading s3fs-2021.10.0-py3-none-any.whl (26 kB)\n",
      "Collecting fsspec\n",
      "  Downloading fsspec-2021.10.0-py3-none-any.whl (125 kB)\n",
      "     |████████████████████████████████| 125 kB 69.3 MB/s            \n",
      "\u001b[?25hCollecting s3fs\n",
      "  Downloading s3fs-2021.9.0-py3-none-any.whl (26 kB)\n",
      "Collecting fsspec\n",
      "  Downloading fsspec-2021.9.0-py3-none-any.whl (123 kB)\n",
      "     |████████████████████████████████| 123 kB 42.6 MB/s            \n",
      "\u001b[?25hINFO: pip is looking at multiple versions of fsspec to determine which version is compatible with other requirements. This could take a while.\n",
      "Collecting s3fs\n",
      "  Downloading s3fs-2021.8.1-py3-none-any.whl (26 kB)\n",
      "Collecting fsspec\n",
      "  Downloading fsspec-2021.8.1-py3-none-any.whl (119 kB)\n",
      "     |████████████████████████████████| 119 kB 112.5 MB/s            \n",
      "\u001b[?25hINFO: pip is looking at multiple versions of s3fs to determine which version is compatible with other requirements. This could take a while.\n",
      "Collecting s3fs\n",
      "  Downloading s3fs-2021.8.0-py3-none-any.whl (26 kB)\n",
      "Collecting fsspec\n",
      "  Downloading fsspec-2021.7.0-py3-none-any.whl (118 kB)\n",
      "     |████████████████████████████████| 118 kB 64.4 MB/s            \n",
      "\u001b[?25hCollecting s3fs\n",
      "  Downloading s3fs-2021.7.0-py3-none-any.whl (25 kB)\n",
      "  Downloading s3fs-2021.6.1-py3-none-any.whl (25 kB)\n",
      "Collecting fsspec\n",
      "  Downloading fsspec-2021.6.1-py3-none-any.whl (115 kB)\n",
      "     |████████████████████████████████| 115 kB 77.6 MB/s            \n",
      "\u001b[?25hCollecting s3fs\n",
      "  Downloading s3fs-2021.6.0-py3-none-any.whl (24 kB)\n",
      "Collecting fsspec\n",
      "  Downloading fsspec-2021.6.0-py3-none-any.whl (114 kB)\n",
      "     |████████████████████████████████| 114 kB 82.2 MB/s            \n",
      "\u001b[?25hINFO: This is taking longer than usual. You might need to provide the dependency resolver with stricter constraints to reduce runtime. See https://pip.pypa.io/warnings/backtracking for guidance. If you want to abort this run, press Ctrl + C.\n",
      "Collecting s3fs\n",
      "  Downloading s3fs-2021.5.0-py3-none-any.whl (24 kB)\n",
      "Collecting fsspec\n",
      "  Downloading fsspec-2021.5.0-py3-none-any.whl (111 kB)\n",
      "     |████████████████████████████████| 111 kB 118.6 MB/s            \n",
      "\u001b[?25hINFO: This is taking longer than usual. You might need to provide the dependency resolver with stricter constraints to reduce runtime. See https://pip.pypa.io/warnings/backtracking for guidance. If you want to abort this run, press Ctrl + C.\n",
      "Collecting s3fs\n",
      "  Downloading s3fs-2021.4.0-py3-none-any.whl (23 kB)\n",
      "  Downloading s3fs-0.5.1-py3-none-any.whl (21 kB)\n",
      "  Downloading s3fs-0.5.0-py3-none-any.whl (21 kB)\n",
      "  Downloading s3fs-0.4.2-py3-none-any.whl (19 kB)\n",
      "Requirement already satisfied: six>=1.5.2 in /home/ec2-user/anaconda3/envs/python3/lib/python3.6/site-packages (from grpcio<=1.43.0,>=1.28.1->ray[tune]->syne-tune[extra]) (1.15.0)\n",
      "Requirement already satisfied: zipp>=0.5 in /home/ec2-user/anaconda3/envs/python3/lib/python3.6/site-packages (from importlib-metadata>=1.4.0->sagemaker>=2.32.0->syne-tune[extra]) (3.4.0)\n",
      "Requirement already satisfied: pyparsing!=3.0.5,>=2.0.2 in /home/ec2-user/anaconda3/envs/python3/lib/python3.6/site-packages (from packaging>=20.0->sagemaker>=2.32.0->syne-tune[extra]) (2.4.7)\n",
      "Requirement already satisfied: threadpoolctl>=2.0.0 in /home/ec2-user/anaconda3/envs/python3/lib/python3.6/site-packages (from scikit-learn>=0.20.0->scikit-optimize->syne-tune[extra]) (2.1.0)\n",
      "Requirement already satisfied: pyrsistent>=0.14.0 in /home/ec2-user/anaconda3/envs/python3/lib/python3.6/site-packages (from jsonschema->ray[tune]->syne-tune[extra]) (0.17.3)\n",
      "Requirement already satisfied: setuptools in /home/ec2-user/anaconda3/envs/python3/lib/python3.6/site-packages (from jsonschema->ray[tune]->syne-tune[extra]) (49.6.0.post20210108)\n",
      "Requirement already satisfied: multiprocess>=0.70.12 in /home/ec2-user/anaconda3/envs/python3/lib/python3.6/site-packages (from pathos->sagemaker>=2.32.0->syne-tune[extra]) (0.70.12.2)\n",
      "Requirement already satisfied: pox>=0.3.0 in /home/ec2-user/anaconda3/envs/python3/lib/python3.6/site-packages (from pathos->sagemaker>=2.32.0->syne-tune[extra]) (0.3.0)\n",
      "Requirement already satisfied: ppft>=1.6.6.4 in /home/ec2-user/anaconda3/envs/python3/lib/python3.6/site-packages (from pathos->sagemaker>=2.32.0->syne-tune[extra]) (1.6.6.4)\n",
      "Collecting filelock\n",
      "  Downloading filelock-3.4.1-py3-none-any.whl (9.9 kB)\n",
      "Requirement already satisfied: platformdirs<3,>=2 in /home/ec2-user/anaconda3/envs/python3/lib/python3.6/site-packages (from virtualenv->ray[tune]->syne-tune[extra]) (2.4.0)\n",
      "Collecting distlib<1,>=0.3.1\n",
      "  Downloading distlib-0.3.4-py2.py3-none-any.whl (461 kB)\n",
      "     |████████████████████████████████| 461 kB 76.0 MB/s            \n",
      "\u001b[?25hCollecting importlib-resources>=1.0\n",
      "  Downloading importlib_resources-5.4.0-py3-none-any.whl (28 kB)\n",
      "Building wheels for collected packages: fastparquet\n",
      "  Building wheel for fastparquet (setup.py) ... \u001b[?25ldone\n",
      "\u001b[?25h  Created wheel for fastparquet: filename=fastparquet-0.8.0-cp36-cp36m-linux_x86_64.whl size=1304087 sha256=3be6fa197d5a97af7f4e5e3b9fa979ca57f28d40c3dec3caa10c15c089f2c599\n",
      "  Stored in directory: /home/ec2-user/.cache/pip/wheels/6a/6a/4f/0fd8e8bcbc4b5b751186e363b5b03975d8643eee2975eed2ca\n",
      "Successfully built fastparquet\n",
      "Installing collected packages: protobuf, importlib-resources, filelock, distlib, virtualenv, grpcio, torch, tensorboardX, ray, pyaml, cramjam, torchvision, scikit-optimize, s3fs, fastparquet, autograd\n",
      "  Attempting uninstall: protobuf\n",
      "    Found existing installation: protobuf 3.15.2\n",
      "    Uninstalling protobuf-3.15.2:\n",
      "      Successfully uninstalled protobuf-3.15.2\n",
      "  Attempting uninstall: filelock\n",
      "    Found existing installation: filelock 3.0.12\n",
      "    Uninstalling filelock-3.0.12:\n",
      "      Successfully uninstalled filelock-3.0.12\n",
      "  Attempting uninstall: torch\n",
      "    Found existing installation: torch 1.10.0\n",
      "    Uninstalling torch-1.10.0:\n",
      "      Successfully uninstalled torch-1.10.0\n",
      "  Attempting uninstall: s3fs\n",
      "    Found existing installation: s3fs 2021.4.0\n",
      "    Uninstalling s3fs-2021.4.0:\n",
      "      Successfully uninstalled s3fs-2021.4.0\n",
      "Successfully installed autograd-1.4 cramjam-2.5.0 distlib-0.3.4 fastparquet-0.8.0 filelock-3.4.1 grpcio-1.43.0 importlib-resources-5.4.0 protobuf-3.19.4 pyaml-21.10.1 ray-1.13.0 s3fs-0.4.2 scikit-optimize-0.9.0 tensorboardX-2.5.1 torch-1.10.1 torchvision-0.11.2 virtualenv-20.15.1\n"
     ]
    }
   ],
   "source": [
    "!pip install 'syne-tune[extra]'"
   ]
  },
  {
   "cell_type": "markdown",
   "id": "79ebca81",
   "metadata": {},
   "source": [
    "Install HuggingFace dependencies"
   ]
  },
  {
   "cell_type": "code",
   "execution_count": 2,
   "id": "8ea804c1",
   "metadata": {},
   "outputs": [
    {
     "name": "stdout",
     "output_type": "stream",
     "text": [
      "Collecting torch==1.10.0\n",
      "  Downloading torch-1.10.0-cp36-cp36m-manylinux1_x86_64.whl (881.9 MB)\n",
      "     |████████████████████████████████| 881.9 MB 500 bytes/s           \n",
      "\u001b[?25hCollecting datasets==1.8.0\n",
      "  Downloading datasets-1.8.0-py3-none-any.whl (237 kB)\n",
      "     |████████████████████████████████| 237 kB 102.7 MB/s            \n",
      "\u001b[?25hCollecting transformers\n",
      "  Downloading transformers-4.18.0-py3-none-any.whl (4.0 MB)\n",
      "     |████████████████████████████████| 4.0 MB 104.0 MB/s            \n",
      "\u001b[?25hRequirement already satisfied: dataclasses in /home/ec2-user/anaconda3/envs/python3/lib/python3.6/site-packages (from torch==1.10.0) (0.8)\n",
      "Requirement already satisfied: typing-extensions in /home/ec2-user/anaconda3/envs/python3/lib/python3.6/site-packages (from torch==1.10.0) (4.0.1)\n",
      "Requirement already satisfied: pandas in /home/ec2-user/anaconda3/envs/python3/lib/python3.6/site-packages (from datasets==1.8.0) (1.1.5)\n",
      "Requirement already satisfied: requests>=2.19.0 in /home/ec2-user/anaconda3/envs/python3/lib/python3.6/site-packages (from datasets==1.8.0) (2.26.0)\n",
      "Requirement already satisfied: dill in /home/ec2-user/anaconda3/envs/python3/lib/python3.6/site-packages (from datasets==1.8.0) (0.3.4)\n",
      "Requirement already satisfied: fsspec in /home/ec2-user/anaconda3/envs/python3/lib/python3.6/site-packages (from datasets==1.8.0) (2021.4.0)\n",
      "Collecting pyarrow<4.0.0,>=1.0.0\n",
      "  Downloading pyarrow-3.0.0-cp36-cp36m-manylinux2014_x86_64.whl (20.7 MB)\n",
      "     |████████████████████████████████| 20.7 MB 92.2 MB/s            \n",
      "\u001b[?25hCollecting tqdm<4.50.0,>=4.27\n",
      "  Downloading tqdm-4.49.0-py2.py3-none-any.whl (69 kB)\n",
      "     |████████████████████████████████| 69 kB 460 kB/s             \n",
      "\u001b[?25hRequirement already satisfied: packaging in /home/ec2-user/anaconda3/envs/python3/lib/python3.6/site-packages (from datasets==1.8.0) (21.3)\n",
      "Collecting xxhash\n",
      "  Downloading xxhash-3.0.0-cp36-cp36m-manylinux_2_17_x86_64.manylinux2014_x86_64.whl (211 kB)\n",
      "     |████████████████████████████████| 211 kB 73.6 MB/s            \n",
      "\u001b[?25hCollecting huggingface-hub<0.1.0\n",
      "  Downloading huggingface_hub-0.0.19-py3-none-any.whl (56 kB)\n",
      "     |████████████████████████████████| 56 kB 367 kB/s             \n",
      "\u001b[?25hRequirement already satisfied: numpy>=1.17 in /home/ec2-user/anaconda3/envs/python3/lib/python3.6/site-packages (from datasets==1.8.0) (1.19.5)\n",
      "Requirement already satisfied: importlib-metadata in /home/ec2-user/anaconda3/envs/python3/lib/python3.6/site-packages (from datasets==1.8.0) (3.7.0)\n",
      "Requirement already satisfied: multiprocess in /home/ec2-user/anaconda3/envs/python3/lib/python3.6/site-packages (from datasets==1.8.0) (0.70.12.2)\n",
      "Requirement already satisfied: regex!=2019.12.17 in /home/ec2-user/anaconda3/envs/python3/lib/python3.6/site-packages (from transformers) (2020.11.13)\n",
      "Requirement already satisfied: filelock in /home/ec2-user/anaconda3/envs/python3/lib/python3.6/site-packages (from transformers) (3.0.12)\n",
      "Collecting transformers\n",
      "  Downloading transformers-4.17.0-py3-none-any.whl (3.8 MB)\n",
      "     |████████████████████████████████| 3.8 MB 82.3 MB/s            \n",
      "\u001b[?25hCollecting tokenizers!=0.11.3,>=0.11.1\n",
      "  Downloading tokenizers-0.12.1-cp36-cp36m-manylinux_2_12_x86_64.manylinux2010_x86_64.whl (6.6 MB)\n",
      "     |████████████████████████████████| 6.6 MB 98.5 MB/s            \n",
      "\u001b[?25hCollecting transformers\n",
      "  Downloading transformers-4.16.2-py3-none-any.whl (3.5 MB)\n",
      "     |████████████████████████████████| 3.5 MB 97.7 MB/s            \n",
      "\u001b[?25h  Downloading transformers-4.16.1-py3-none-any.whl (3.5 MB)\n",
      "     |████████████████████████████████| 3.5 MB 58.3 MB/s            \n",
      "\u001b[?25h  Downloading transformers-4.16.0-py3-none-any.whl (3.5 MB)\n",
      "     |████████████████████████████████| 3.5 MB 52.2 MB/s            \n",
      "\u001b[?25h  Downloading transformers-4.15.0-py3-none-any.whl (3.4 MB)\n",
      "     |████████████████████████████████| 3.4 MB 79.1 MB/s            \n",
      "\u001b[?25hCollecting tokenizers<0.11,>=0.10.1\n",
      "  Downloading tokenizers-0.10.3-cp36-cp36m-manylinux_2_5_x86_64.manylinux1_x86_64.manylinux_2_12_x86_64.manylinux2010_x86_64.whl (3.3 MB)\n",
      "     |████████████████████████████████| 3.3 MB 74.6 MB/s            \n",
      "\u001b[?25hCollecting transformers\n",
      "  Downloading transformers-4.14.1-py3-none-any.whl (3.4 MB)\n",
      "     |████████████████████████████████| 3.4 MB 93.5 MB/s            \n",
      "\u001b[?25h  Downloading transformers-4.13.0-py3-none-any.whl (3.3 MB)\n",
      "     |████████████████████████████████| 3.3 MB 96.3 MB/s            \n",
      "\u001b[?25h  Downloading transformers-4.12.5-py3-none-any.whl (3.1 MB)\n",
      "     |████████████████████████████████| 3.1 MB 90.7 MB/s            \n",
      "\u001b[?25h  Downloading transformers-4.12.4-py3-none-any.whl (3.1 MB)\n",
      "     |████████████████████████████████| 3.1 MB 54.5 MB/s            \n",
      "\u001b[?25h  Downloading transformers-4.12.3-py3-none-any.whl (3.1 MB)\n",
      "     |████████████████████████████████| 3.1 MB 50.4 MB/s            \n",
      "\u001b[?25h  Downloading transformers-4.12.2-py3-none-any.whl (3.1 MB)\n",
      "     |████████████████████████████████| 3.1 MB 83.6 MB/s            \n",
      "\u001b[?25hRequirement already satisfied: pyyaml>=5.1 in /home/ec2-user/anaconda3/envs/python3/lib/python3.6/site-packages (from transformers) (5.4.1)\n",
      "Collecting sacremoses\n",
      "  Downloading sacremoses-0.0.53.tar.gz (880 kB)\n",
      "     |████████████████████████████████| 880 kB 78.2 MB/s            \n",
      "\u001b[?25h  Preparing metadata (setup.py) ... \u001b[?25ldone\n",
      "\u001b[?25hRequirement already satisfied: pyparsing!=3.0.5,>=2.0.2 in /home/ec2-user/anaconda3/envs/python3/lib/python3.6/site-packages (from packaging->datasets==1.8.0) (2.4.7)\n",
      "Requirement already satisfied: urllib3<1.27,>=1.21.1 in /home/ec2-user/anaconda3/envs/python3/lib/python3.6/site-packages (from requests>=2.19.0->datasets==1.8.0) (1.26.8)\n",
      "Requirement already satisfied: idna<4,>=2.5 in /home/ec2-user/anaconda3/envs/python3/lib/python3.6/site-packages (from requests>=2.19.0->datasets==1.8.0) (3.1)\n",
      "Requirement already satisfied: charset-normalizer~=2.0.0 in /home/ec2-user/anaconda3/envs/python3/lib/python3.6/site-packages (from requests>=2.19.0->datasets==1.8.0) (2.0.9)\n",
      "Requirement already satisfied: certifi>=2017.4.17 in /home/ec2-user/anaconda3/envs/python3/lib/python3.6/site-packages (from requests>=2.19.0->datasets==1.8.0) (2021.5.30)\n",
      "Requirement already satisfied: zipp>=0.5 in /home/ec2-user/anaconda3/envs/python3/lib/python3.6/site-packages (from importlib-metadata->datasets==1.8.0) (3.4.0)\n",
      "Requirement already satisfied: python-dateutil>=2.7.3 in /home/ec2-user/anaconda3/envs/python3/lib/python3.6/site-packages (from pandas->datasets==1.8.0) (2.8.1)\n",
      "Requirement already satisfied: pytz>=2017.2 in /home/ec2-user/anaconda3/envs/python3/lib/python3.6/site-packages (from pandas->datasets==1.8.0) (2021.1)\n",
      "Requirement already satisfied: six in /home/ec2-user/anaconda3/envs/python3/lib/python3.6/site-packages (from sacremoses->transformers) (1.15.0)\n",
      "Requirement already satisfied: click in /home/ec2-user/anaconda3/envs/python3/lib/python3.6/site-packages (from sacremoses->transformers) (7.1.2)\n",
      "Requirement already satisfied: joblib in /home/ec2-user/anaconda3/envs/python3/lib/python3.6/site-packages (from sacremoses->transformers) (1.0.1)\n",
      "Building wheels for collected packages: sacremoses\n",
      "  Building wheel for sacremoses (setup.py) ... \u001b[?25ldone\n",
      "\u001b[?25h  Created wheel for sacremoses: filename=sacremoses-0.0.53-py3-none-any.whl size=895254 sha256=68d7ec0ac03e77180a2aa0173bcd50d936d2b4cc6ae4018e6cc7a31d0fa01c35\n",
      "  Stored in directory: /home/ec2-user/.cache/pip/wheels/4c/64/31/e9900a234b23fb3e9dc565d6114a9d6ff84a72dbdd356502b4\n",
      "Successfully built sacremoses\n",
      "Installing collected packages: tqdm, xxhash, tokenizers, sacremoses, pyarrow, huggingface-hub, transformers, torch, datasets\n",
      "  Attempting uninstall: tqdm\n",
      "    Found existing installation: tqdm 4.62.3\n",
      "    Uninstalling tqdm-4.62.3:\n",
      "      Successfully uninstalled tqdm-4.62.3\n",
      "  Attempting uninstall: pyarrow\n",
      "    Found existing installation: pyarrow 6.0.1\n",
      "    Uninstalling pyarrow-6.0.1:\n",
      "      Successfully uninstalled pyarrow-6.0.1\n",
      "Successfully installed datasets-1.8.0 huggingface-hub-0.0.19 pyarrow-3.0.0 sacremoses-0.0.53 tokenizers-0.10.3 torch-1.10.0 tqdm-4.49.0 transformers-4.12.2 xxhash-3.0.0\n"
     ]
    }
   ],
   "source": [
    "!pip install 'torch==1.10.0' 'datasets==1.8.0' 'transformers'"
   ]
  },
  {
   "cell_type": "code",
   "execution_count": 23,
   "id": "fc51ef01",
   "metadata": {},
   "outputs": [],
   "source": [
    "import matplotlib as mpl #$; mpl.use('pgf')\n",
    "import os\n",
    "\n",
    "%matplotlib inline\n",
    "import matplotlib.pyplot as plt\n",
    "import logging\n",
    "logging.basicConfig(level=logging.INFO)\n",
    "from pathlib import Path\n",
    "\n",
    "from syne_tune.backend.local_backend import LocalBackend\n",
    "from syne_tune.tuner import Tuner\n",
    "from syne_tune.search_space import uniform, loguniform, choice, randint\n",
    "from syne_tune.stopping_criterion import StoppingCriterion\n",
    "from syne_tune.optimizer.baselines import ASHA, MOBSTER, BayesianOptimization, RandomSearch, MOASHA\n",
    "from syne_tune.constants import ST_WORKER_TIME\n",
    "from syne_tune.backend.sagemaker_backend.instance_info import select_instance_type\n",
    "from syne_tune.backend.sagemaker_backend.sagemaker_backend import SagemakerBackend\n",
    "from syne_tune.backend.sagemaker_backend.sagemaker_utils import get_execution_role\n",
    "\n",
    "\n",
    "TASK2METRICSMODE = {\n",
    "    \"cola\": {'metric': 'matthews_correlation', 'mode': 'max'},\n",
    "    \"mnli\": {'metric': 'accuracy', 'mode': 'max'},\n",
    "    \"mrpc\": {'metric': 'f1', 'mode': 'max'},\n",
    "    \"qnli\": {'metric': 'accuracy', 'mode': 'max'},\n",
    "    \"qqp\": {'metric': 'f1', 'mode': 'max'},\n",
    "    \"rte\": {'metric': 'accuracy', 'mode': 'max'},\n",
    "    \"sst2\": {'metric': 'accuracy', 'mode': 'max'},\n",
    "    \"stsb\": {'metric': 'spearmanr', 'mode': 'max'},\n",
    "    \"wnli\": {'metric': 'accuracy', 'mode': 'max'},\n",
    "}"
   ]
  },
  {
   "cell_type": "markdown",
   "id": "7984fec4",
   "metadata": {},
   "source": [
    "## Optimizing Training Hyperparameters "
   ]
  },
  {
   "cell_type": "markdown",
   "id": "2690ad80",
   "metadata": {},
   "source": [
    "We start by optimizing hyperparameters that control the training process: learning rate, batch size and the ratio of training steps for warming up the learning rate, i.e where the learning rate is increased to its final value before we start decaying it back to 0."
   ]
  },
  {
   "cell_type": "markdown",
   "id": "684484e0",
   "metadata": {},
   "source": [
    "We first need to define some additional parameters such as the dataset, the total number of runtime dedicated to the HPO process and the number of workers to distributed the evaluation of hyperparameters, etc. \n",
    "We set the number of workers equal to the number of GPUs, such that each GPU evaluates one configuration at a time."
   ]
  },
  {
   "cell_type": "code",
   "execution_count": 10,
   "id": "7941558a",
   "metadata": {},
   "outputs": [],
   "source": [
    "dataset = 'mrpc'\n",
    "max_runtime = 1800\n",
    "num_train_epochs = 3 \n",
    "n_workers = 1\n",
    "seed = 12345\n",
    "model_type = 'bert-base-cased'"
   ]
  },
  {
   "cell_type": "markdown",
   "id": "08f435ab",
   "metadata": {},
   "source": [
    "For Syne Tune we need to define which metric we would like to optimize, and whether we maximize or minimize this metirc. Additionally, we also specify the resource attribute that determines how much resources we spend for the evaluation of a hyperparameter configuration, e.g the number of epochs for training."
   ]
  },
  {
   "cell_type": "code",
   "execution_count": 12,
   "id": "fed03fa6",
   "metadata": {},
   "outputs": [],
   "source": [
    "metric = 'eval_' + TASK2METRICSMODE[dataset]['metric']\n",
    "mode = TASK2METRICSMODE[dataset]['mode']\n",
    "resource_attribute = 'epoch'"
   ]
  },
  {
   "cell_type": "markdown",
   "id": "d3decaf6",
   "metadata": {},
   "source": [
    "Next we define the path to the training scripts that gets the hyperparameters as input argument and reports the above define metrics back to Syne Tune. Here we use an adated version of the original Hugging Face script: https://github.com/huggingface/transformers/blob/master/examples/pytorch/text-classification/run_glue.py"
   ]
  },
  {
   "cell_type": "code",
   "execution_count": 13,
   "id": "2374ac8d",
   "metadata": {},
   "outputs": [],
   "source": [
    "entry_point = \"./run_glue.py\""
   ]
  },
  {
   "cell_type": "markdown",
   "id": "146b3a5a",
   "metadata": {},
   "source": [
    "The first configuration that we will always evaluate is the default configuration provided by Hugging Face. This makes sure that the configuration returned by Syne Tune performs at least as well as the default configuration."
   ]
  },
  {
   "cell_type": "code",
   "execution_count": 14,
   "id": "a5d55152",
   "metadata": {},
   "outputs": [],
   "source": [
    "default = {\n",
    "    'learning_rate': 2e-5,\n",
    "    'per_device_train_batch_size': 32,\n",
    "    'warmup_ratio': 0.0,\n",
    "}"
   ]
  },
  {
   "cell_type": "markdown",
   "id": "e8ad27c9",
   "metadata": {},
   "source": [
    "Now we can define the configuration space, which contains the hyperparameters that we want to optimize plus all other parameters that we want to pass to the training script."
   ]
  },
  {
   "cell_type": "code",
   "execution_count": 15,
   "id": "741c94fa",
   "metadata": {},
   "outputs": [],
   "source": [
    "config_space = {\n",
    "    'learning_rate': loguniform(1e-6, 1e-4),\n",
    "    'per_device_train_batch_size': randint(16, 48),\n",
    "    'warmup_ratio': uniform(0, 0.5),\n",
    "    'num_train_epochs': num_train_epochs,\n",
    "    'model_name_or_path': model_type,\n",
    "    'task_name': dataset,\n",
    "    'do_train': True,\n",
    "    'max_seq_length': 128,\n",
    "    'seed': seed,\n",
    "    'output_dir': 'tmp/' + dataset,\n",
    "    'evaluation_strategy': 'epoch', \n",
    "}"
   ]
  },
  {
   "cell_type": "markdown",
   "id": "809b56fe",
   "metadata": {},
   "source": [
    "Before we can start the optimization process, we have to define the backend. Here we use the LocalBackend, which distributes the HPO process on the local machine. Later we will also see how we can parallelize the search across a set of SageMaker training jobs."
   ]
  },
  {
   "cell_type": "code",
   "execution_count": 16,
   "id": "ee113f63",
   "metadata": {},
   "outputs": [],
   "source": [
    "backend = LocalBackend(entry_point=entry_point)"
   ]
  },
  {
   "cell_type": "markdown",
   "id": "a46936e2",
   "metadata": {},
   "source": [
    "We use ASHA (asynchronous successive halving) as HPO method, which samples configurations randomly and terminates poorly performing configurations early."
   ]
  },
  {
   "cell_type": "code",
   "execution_count": 17,
   "id": "c45e880f",
   "metadata": {},
   "outputs": [
    {
     "name": "stderr",
     "output_type": "stream",
     "text": [
      "INFO:syne_tune.optimizer.schedulers.searchers.utils.default_arguments:scheduler_options: Key 'resume': Imputing default value False\n",
      "scheduler_options: Key 'grace_period': Imputing default value 1\n",
      "scheduler_options: Key 'reduction_factor': Imputing default value 3\n",
      "scheduler_options: Key 'brackets': Imputing default value 1\n",
      "scheduler_options: Key 'type': Imputing default value stopping\n",
      "scheduler_options: Key 'searcher_data': Imputing default value rungs\n",
      "scheduler_options: Key 'register_pending_myopic': Imputing default value False\n",
      "scheduler_options: Key 'do_snapshots': Imputing default value False\n",
      "scheduler_options: Key 'rung_system_per_bracket': Imputing default value True\n",
      "scheduler_options: Key 'rung_system_kwargs': Imputing default value {'cost_attr': 'elapsed_time', 'ranking_criterion': 'soft_ranking', 'epsilon': 1.0, 'epsilon_scaling': 1.0}\n",
      "\n",
      "INFO:syne_tune.optimizer.schedulers.fifo:Master random_seed = 12345\n"
     ]
    }
   ],
   "source": [
    "scheduler = ASHA(config_space, metric=metric,\n",
    "                 resource_attr=resource_attribute, max_t=num_train_epochs,\n",
    "                 mode=mode, random_seed=seed, points_to_evaluate=[default])"
   ]
  },
  {
   "cell_type": "markdown",
   "id": "3d2442f1",
   "metadata": {},
   "source": [
    "Now we have everything together to start the optimization process."
   ]
  },
  {
   "cell_type": "code",
   "execution_count": null,
   "id": "08f869cd",
   "metadata": {},
   "outputs": [
    {
     "name": "stderr",
     "output_type": "stream",
     "text": [
      "INFO:syne_tune.tuner:results of trials will be saved on /home/ec2-user/syne-tune/run-glue-2022-07-11-14-44-18-480\n",
      "INFO:syne_tune.optimizer.schedulers.searchers.bayesopt.utils.debug_log:[0: random]\n",
      "learning_rate: 2e-05\n",
      "per_device_train_batch_size: 32\n",
      "warmup_ratio: 0.0\n",
      "INFO:syne_tune.optimizer.schedulers.hyperband:trial_id 0 starts (first milestone = 1)\n",
      "INFO:root:Detected 1 GPUs\n",
      "INFO:root:running subprocess with command: /home/ec2-user/anaconda3/envs/python3/bin/python ./run_glue.py --learning_rate 2e-05 --per_device_train_batch_size 32 --warmup_ratio 0.0 --num_train_epochs 3 --model_name_or_path bert-base-cased --task_name mrpc --do_train True --max_seq_length 128 --seed 12345 --output_dir tmp/mrpc --evaluation_strategy epoch --st_checkpoint_dir /home/ec2-user/syne-tune/run-glue-2022-07-11-14-44-18-480/0/checkpoints\n",
      "INFO:syne_tune.tuner:(trial 0) - scheduled config {'learning_rate': 2e-05, 'per_device_train_batch_size': 32, 'warmup_ratio': 0.0, 'num_train_epochs': 3, 'model_name_or_path': 'bert-base-cased', 'task_name': 'mrpc', 'do_train': True, 'max_seq_length': 128, 'seed': 12345, 'output_dir': 'tmp/mrpc', 'evaluation_strategy': 'epoch'}\n",
      "INFO:syne_tune.tuner:tuning status (last metric is reported)\n",
      " trial_id      status  iter  learning_rate  per_device_train_batch_size  warmup_ratio  num_train_epochs model_name_or_path task_name  do_train  max_seq_length   seed output_dir evaluation_strategy\n",
      "        0  InProgress     0        0.00002                           32           0.0                 3    bert-base-cased      mrpc      True             128  12345   tmp/mrpc               epoch\n",
      "1 trials running, 0 finished (0 until the end), 35.20s wallclock-time\n",
      "\n",
      "INFO:syne_tune.tuner:tuning status (last metric is reported)\n",
      " trial_id      status  iter  learning_rate  per_device_train_batch_size  warmup_ratio  num_train_epochs model_name_or_path task_name  do_train  max_seq_length   seed output_dir evaluation_strategy\n",
      "        0  InProgress     0        0.00002                           32           0.0                 3    bert-base-cased      mrpc      True             128  12345   tmp/mrpc               epoch\n",
      "1 trials running, 0 finished (0 until the end), 70.25s wallclock-time\n",
      "\n",
      "INFO:syne_tune.optimizer.schedulers.hyperband:trial_id 0: Reaches 1, continues to 3\n",
      "INFO:syne_tune.optimizer.schedulers.searchers.searcher:Update for trial_id 0:1: metric = 0.823\n",
      "INFO:syne_tune.tuner:tuning status (last metric is reported)\n",
      " trial_id      status  iter  learning_rate  per_device_train_batch_size  warmup_ratio  num_train_epochs model_name_or_path task_name  do_train  max_seq_length   seed output_dir evaluation_strategy  eval_loss  eval_accuracy   eval_f1  eval_combined_score  eval_runtime  eval_samples_per_second  eval_steps_per_second  epoch  step  test_loss  test_accuracy   test_f1  test_combined_score  num_params   latency  worker-time\n",
      "        0  InProgress     1        0.00002                           32           0.0                 3    bert-base-cased      mrpc      True             128  12345   tmp/mrpc               epoch   0.539597       0.742961  0.822571             0.782766        8.3788                  131.403                  16.47      1    81   0.525744       0.752451  0.835237             0.793844   108311810  9.154325    61.750773\n",
      "1 trials running, 0 finished (0 until the end), 105.70s wallclock-time\n",
      "\n",
      "INFO:syne_tune.tuner:tuning status (last metric is reported)\n",
      " trial_id      status  iter  learning_rate  per_device_train_batch_size  warmup_ratio  num_train_epochs model_name_or_path task_name  do_train  max_seq_length   seed output_dir evaluation_strategy  eval_loss  eval_accuracy   eval_f1  eval_combined_score  eval_runtime  eval_samples_per_second  eval_steps_per_second  epoch  step  test_loss  test_accuracy   test_f1  test_combined_score  num_params   latency  worker-time\n",
      "        0  InProgress     1        0.00002                           32           0.0                 3    bert-base-cased      mrpc      True             128  12345   tmp/mrpc               epoch   0.539597       0.742961  0.822571             0.782766        8.3788                  131.403                  16.47      1    81   0.525744       0.752451  0.835237             0.793844   108311810  9.154325    61.750773\n",
      "1 trials running, 0 finished (0 until the end), 140.75s wallclock-time\n",
      "\n",
      "INFO:syne_tune.tuner:tuning status (last metric is reported)\n",
      " trial_id      status  iter  learning_rate  per_device_train_batch_size  warmup_ratio  num_train_epochs model_name_or_path task_name  do_train  max_seq_length   seed output_dir evaluation_strategy  eval_loss  eval_accuracy   eval_f1  eval_combined_score  eval_runtime  eval_samples_per_second  eval_steps_per_second  epoch  step  test_loss  test_accuracy   test_f1  test_combined_score  num_params   latency  worker-time\n",
      "        0  InProgress     2        0.00002                           32           0.0                 3    bert-base-cased      mrpc      True             128  12345   tmp/mrpc               epoch    0.45273       0.792916  0.841004              0.81696        8.8159                  124.889                 15.654      2   162    0.44603       0.811275  0.863233             0.837254   108311810  9.154325   127.109217\n",
      "1 trials running, 0 finished (0 until the end), 175.80s wallclock-time\n",
      "\n"
     ]
    }
   ],
   "source": [
    "stop_criterion = StoppingCriterion(max_wallclock_time=max_runtime)\n",
    "tuner = Tuner(\n",
    "    backend=backend,\n",
    "    scheduler=scheduler,\n",
    "    stop_criterion=stop_criterion,\n",
    "    n_workers=n_workers,\n",
    ")\n",
    "tuner.run()"
   ]
  },
  {
   "cell_type": "markdown",
   "id": "d8e035ef",
   "metadata": {},
   "source": [
    "Below we plot the test error of the best found model over time. As reference we plot the learning curve (red dots) of the default configuration, which, as explained above, is always evaluated first.\n",
    "We can see that Syne Tune quickly finds a better performing configurations that improves upon the default configuration."
   ]
  },
  {
   "cell_type": "code",
   "execution_count": 24,
   "id": "9262efb7",
   "metadata": {},
   "outputs": [
    {
     "data": {
      "text/plain": [
       "Text(0.5, 0, 'wall-clock time (seconds)')"
      ]
     },
     "execution_count": 24,
     "metadata": {},
     "output_type": "execute_result"
    },
    {
     "data": {
      "image/png": "[encoded data removed]",
      "text/plain": [
       "<Figure size 1200x800 with 1 Axes>"
      ]
     },
     "metadata": {
      "needs_background": "light"
     },
     "output_type": "display_data"
    }
   ],
   "source": [
    "from syne_tune.experiments import load_experiment\n",
    "exp = load_experiment(tuner.name)\n",
    "df_hyperparameters = exp.results\n",
    "\n",
    "plt.figure(dpi=200)\n",
    "\n",
    "traj = df_hyperparameters['test_accuracy'].cummax()\n",
    "runtime = df_hyperparameters['st_tuner_time']\n",
    "plt.plot(runtime, traj)\n",
    "\n",
    "df_default = df_hyperparameters[df_hyperparameters['trial_id'] == 0]\n",
    "traj = df_default['test_accuracy'].cummax()\n",
    "runtime = df_default['st_tuner_time']\n",
    "plt.plot(runtime, traj, 'ro')\n",
    "\n",
    "plt.ylabel('test accuracy')\n",
    "plt.xlabel('wall-clock time (seconds)')"
   ]
  },
  {
   "cell_type": "markdown",
   "id": "22e9ef3b",
   "metadata": {},
   "source": [
    "## Optimize the choice of the model"
   ]
  },
  {
   "cell_type": "markdown",
   "id": "3323f9f4",
   "metadata": {},
   "source": [
    "We extend the HPO such that it also automatically selected the right pre-trained model for us. We can achieve this by adding an additional categorical hyperparameter to our search space, that encodes the choice of the pre-trained model."
   ]
  },
  {
   "cell_type": "code",
   "execution_count": null,
   "id": "9b004037",
   "metadata": {},
   "outputs": [],
   "source": [
    "config_space['model_name_or_path'] = choice(['bert-base-cased', 'bert-base-uncased', 'distilbert-base-uncased',\n",
    "                                             'distilbert-base-cased', 'roberta-base',\n",
    "                                             'albert-base-v2', 'distilroberta-base',\n",
    "                                             'xlnet-base-cased', 'albert-base-v1',\n",
    "                                             ])\n",
    "\n",
    "default['model_name_or_path'] = 'bert-base-cased'"
   ]
  },
  {
   "cell_type": "markdown",
   "id": "c8ad5970",
   "metadata": {},
   "source": [
    "Now we run the search again under the same conditions as before."
   ]
  },
  {
   "cell_type": "code",
   "execution_count": null,
   "id": "e6d72088",
   "metadata": {},
   "outputs": [],
   "source": [
    "backend = LocalBackend(entry_point=entry_point)\n",
    "scheduler = ASHA(config_space, metric=metric,\n",
    "                 resource_attr=resource_attribute, max_t=num_train_epochs,\n",
    "                 mode=mode, random_seed=seed, points_to_evaluate=[default])\n",
    "\n",
    "stop_criterion = StoppingCriterion(max_wallclock_time=max_runtime)\n",
    "tuner = Tuner(\n",
    "    trial_backend=backend,\n",
    "    scheduler=scheduler,\n",
    "    stop_criterion=stop_criterion,\n",
    "    n_workers=n_workers,\n",
    ")\n",
    "tuner.run()"
   ]
  },
  {
   "cell_type": "markdown",
   "id": "e7dac70e",
   "metadata": {},
   "source": [
    "After the search is finished, we compare the results to our previous results. We can see that optimizing in this augmented search space allows Syne Tune to find a much better performing hyperparameter configuration in the same amount of time."
   ]
  },
  {
   "cell_type": "code",
   "execution_count": null,
   "id": "0f05862a",
   "metadata": {},
   "outputs": [],
   "source": [
    "from syne_tune.experiments import load_experiment\n",
    "exp_model_choice = load_experiment(tuner.name)\n",
    "df_model_choice = exp_model_choice.results\n",
    "\n",
    "plt.figure(dpi=200)\n",
    "\n",
    "\n",
    "traj = df_hyperparameters['test_accuracy'].cummax()\n",
    "runtime = df_hyperparameters['st_tuner_time']\n",
    "plt.plot(runtime, traj, label='Hyperparameters not including model type')\n",
    "\n",
    "traj = df_model_choice['test_accuracy'].cummax()\n",
    "runtime = df_model_choice['st_tuner_time']\n",
    "plt.plot(runtime, traj, label='Hyperparameters including model type')\n",
    "\n",
    "df_default = df_model_choice[df_model_choice['trial_id'] == 0]\n",
    "traj = df_default['test_accuracy'].cummax()\n",
    "runtime = df_default['st_tuner_time']\n",
    "plt.plot(runtime, traj, 'ro')\n",
    "\n",
    "plt.legend()\n",
    "plt.ylabel('test accuracy')\n",
    "plt.xlabel('wall-clock time (seconds)')"
   ]
  },
  {
   "cell_type": "markdown",
   "id": "65ba65e3",
   "metadata": {},
   "source": [
    "## Optimize the Instance Type"
   ]
  },
  {
   "cell_type": "markdown",
   "id": "3102aeae",
   "metadata": {},
   "source": [
    "Last, we additionally automate the selection of the instance type for deploying the model later. While this will not affect predictive performance, the instance type influences the latency and the cost of training the model.\n",
    "Thus, we do not optimize a single objective anymore but multiple objectives at the same time. The results is not a single configuration but a set of configuratios that optimially trade-off one metric vs the other."
   ]
  },
  {
   "cell_type": "markdown",
   "id": "411d075a",
   "metadata": {},
   "source": [
    "The same as with the model choice, we will add an additional categorical hyperparameter that determines the instance type. For this example, we have to use the SageMaker backend of Syne Tune, which evaluates each hyperparameter configuration in a single SageMaker Training Job."
   ]
  },
  {
   "cell_type": "code",
   "execution_count": 26,
   "id": "2d524e40",
   "metadata": {},
   "outputs": [
    {
     "name": "stderr",
     "output_type": "stream",
     "text": [
      "INFO:syne_tune.backend.sagemaker_backend.sagemaker_utils:No Sagemaker role passed as environment variable $AWS_ROLE, inferring it.\n",
      "/home/ec2-user/anaconda3/envs/python3/lib/python3.6/site-packages/boto3/compat.py:88: PythonDeprecationWarning: Boto3 will no longer support Python 3.6 starting May 30, 2022. To continue receiving service updates, bug fixes, and security updates please upgrade to Python 3.7 or later. More information can be found here: https://aws.amazon.com/blogs/developer/python-support-policy-updates-for-aws-sdks-and-tools/\n",
      "  warnings.warn(warning, PythonDeprecationWarning)\n"
     ]
    }
   ],
   "source": [
    "from sagemaker.huggingface import HuggingFace\n",
    "\n",
    "\n",
    "instance_types = ['ml.g4dn.xlarge', 'ml.g4dn.2xlarge', 'ml.p2.xlarge', 'ml.g4dn.4xlarge',\n",
    "                  'ml.g4dn.8xlarge', 'ml.p3.2xlarge']\n",
    "\n",
    "config_space['st_instance_type'] = choice(instance_types)\n",
    "\n",
    "backend = SagemakerBackend(\n",
    "    sm_estimator=HuggingFace(\n",
    "        entry_point=str('run_glue.py'),\n",
    "        source_dir=os.getcwd(),\n",
    "        base_job_name='glue-moasha',\n",
    "        # instance-type given here are override by Syne Tune with values sampled from `st_instance_type`.\n",
    "        instance_type='ml.m5.large',\n",
    "        instance_count=1,\n",
    "        py_version=\"py38\",\n",
    "        pytorch_version='1.9',\n",
    "        transformers_version='4.12',\n",
    "        max_run=3600,\n",
    "        role=get_execution_role(),\n",
    "    ),\n",
    ")"
   ]
  },
  {
   "cell_type": "markdown",
   "id": "40c11089",
   "metadata": {},
   "source": [
    "Instead of single-objective ASHA, we now use MO-ASHA to optimize multiple objective simultaneously. "
   ]
  },
  {
   "cell_type": "code",
   "execution_count": 28,
   "id": "f3ae95c6",
   "metadata": {},
   "outputs": [],
   "source": [
    "from syne_tune.constants import ST_WORKER_COST\n",
    "\n",
    "scheduler = MOASHA(\n",
    "    max_t=num_train_epochs,\n",
    "    time_attr=resource_attribute,\n",
    "    metrics=[metric, 'latency', ST_WORKER_COST],\n",
    "    mode=[mode, 'min', 'min'],\n",
    "    config_space=config_space,\n",
    ")\n",
    "stop_criterion = StoppingCriterion(max_wallclock_time=10800)\n",
    "tuner = Tuner(\n",
    "    backend=backend,\n",
    "    scheduler=scheduler,\n",
    "    stop_criterion=stop_criterion,\n",
    "    n_workers=4,\n",
    ")\n",
    "tuner.run()"
   ]
  },
  {
   "cell_type": "markdown",
   "id": "bcb70cf7",
   "metadata": {},
   "source": [
    "Below we plot the latency and cost of all configurations that we trained for the full amount of epochs. The color indicated the instance type. We also plot the Pareto front (dashed black line), i.e the set of configurations that dominate all other configurations in at least one objective and equally well in all other objectives."
   ]
  },
  {
   "cell_type": "code",
   "execution_count": 29,
   "id": "0318a3f5",
   "metadata": {},
   "outputs": [
    {
     "name": "stderr",
     "output_type": "stream",
     "text": [
      "INFO:root:experiment run-glue-2022-07-11-14-57-20-136 not found locally, trying to get it from s3.\n",
      "INFO:root:downloading metadata.json on s3://sagemaker-us-west-2-770209394645/syne-tune/run-glue-2022-07-11-14-57-20-136\n",
      "INFO:root:could not find metadata.json on s3://sagemaker-us-west-2-770209394645/syne-tune/run-glue-2022-07-11-14-57-20-136\n",
      "INFO:root:downloading results.csv.zip on s3://sagemaker-us-west-2-770209394645/syne-tune/run-glue-2022-07-11-14-57-20-136\n",
      "INFO:root:could not find results.csv.zip on s3://sagemaker-us-west-2-770209394645/syne-tune/run-glue-2022-07-11-14-57-20-136\n",
      "INFO:root:downloading tuner.dill on s3://sagemaker-us-west-2-770209394645/syne-tune/run-glue-2022-07-11-14-57-20-136\n",
      "INFO:root:could not find tuner.dill on s3://sagemaker-us-west-2-770209394645/syne-tune/run-glue-2022-07-11-14-57-20-136\n"
     ]
    },
    {
     "ename": "TypeError",
     "evalue": "'NoneType' object is not subscriptable",
     "output_type": "error",
     "traceback": [
      "\u001b[0;31m---------------------------------------------------------------------------\u001b[0m",
      "\u001b[0;31mTypeError\u001b[0m                                 Traceback (most recent call last)",
      "\u001b[0;32m<ipython-input-29-0da976f0912f>\u001b[0m in \u001b[0;36m<module>\u001b[0;34m\u001b[0m\n\u001b[1;32m     34\u001b[0m \u001b[0mmetric_name\u001b[0m \u001b[0;34m=\u001b[0m \u001b[0;34m'test_accuracy'\u001b[0m\u001b[0;34m\u001b[0m\u001b[0;34m\u001b[0m\u001b[0m\n\u001b[1;32m     35\u001b[0m \u001b[0;34m\u001b[0m\u001b[0m\n\u001b[0;32m---> 36\u001b[0;31m \u001b[0mdf\u001b[0m \u001b[0;34m=\u001b[0m \u001b[0mdf\u001b[0m\u001b[0;34m[\u001b[0m\u001b[0mdf\u001b[0m\u001b[0;34m[\u001b[0m\u001b[0;34m'epoch'\u001b[0m\u001b[0;34m]\u001b[0m \u001b[0;34m==\u001b[0m \u001b[0;36m3\u001b[0m\u001b[0;34m]\u001b[0m\u001b[0;34m\u001b[0m\u001b[0;34m\u001b[0m\u001b[0m\n\u001b[0m\u001b[1;32m     37\u001b[0m \u001b[0;34m\u001b[0m\u001b[0m\n\u001b[1;32m     38\u001b[0m \u001b[0mmarkers\u001b[0m \u001b[0;34m=\u001b[0m \u001b[0;34m[\u001b[0m\u001b[0;34m'o'\u001b[0m\u001b[0;34m,\u001b[0m \u001b[0;34m'D'\u001b[0m\u001b[0;34m,\u001b[0m \u001b[0;34m's'\u001b[0m\u001b[0;34m,\u001b[0m \u001b[0;34m'x'\u001b[0m\u001b[0;34m,\u001b[0m \u001b[0;34m'p'\u001b[0m\u001b[0;34m,\u001b[0m \u001b[0;34m'h'\u001b[0m\u001b[0;34m]\u001b[0m\u001b[0;34m\u001b[0m\u001b[0;34m\u001b[0m\u001b[0m\n",
      "\u001b[0;31mTypeError\u001b[0m: 'NoneType' object is not subscriptable"
     ]
    }
   ],
   "source": [
    "import numpy as np\n",
    "\n",
    "from syne_tune.constants import ST_WORKER_COST\n",
    "from syne_tune.experiments import load_experiment\n",
    "\n",
    "\n",
    "def is_pareto_efficient(costs, return_mask = True):\n",
    "    \"\"\"\n",
    "    Find the pareto-efficient points\n",
    "    :param costs: An (n_points, n_costs) array\n",
    "    :param return_mask: True to return a mask\n",
    "    :return: An array of indices of pareto-efficient points.\n",
    "        If return_mask is True, this will be an (n_points, ) boolean array\n",
    "        Otherwise it will be a (n_efficient_points, ) integer array of indices.\n",
    "    \"\"\"\n",
    "    is_efficient = np.arange(costs.shape[0])\n",
    "    n_points = costs.shape[0]\n",
    "    next_point_index = 0  # Next index in the is_efficient array to search for\n",
    "    while next_point_index<len(costs):\n",
    "        nondominated_point_mask = np.any(costs<costs[next_point_index], axis=1)\n",
    "        nondominated_point_mask[next_point_index] = True\n",
    "        is_efficient = is_efficient[nondominated_point_mask]  # Remove dominated points\n",
    "        costs = costs[nondominated_point_mask]\n",
    "        next_point_index = np.sum(nondominated_point_mask[:next_point_index])+1\n",
    "    if return_mask:\n",
    "        is_efficient_mask = np.zeros(n_points, dtype = bool)\n",
    "        is_efficient_mask[is_efficient] = True\n",
    "        return is_efficient_mask\n",
    "    else:\n",
    "        return is_efficient\n",
    "\n",
    "exp = load_experiment(tuner.name)\n",
    "df = exp.results\n",
    "metric_name = 'test_accuracy'\n",
    "\n",
    "df = df[df['epoch'] == 3]\n",
    "\n",
    "markers = ['o', 'D', 's', 'x', 'p', 'h']\n",
    "\n",
    "plt.figure(dpi=200)\n",
    "\n",
    "x = df['latency']\n",
    "y = 1 - df[metric_name]\n",
    "\n",
    "data = np.array([x, y]).T\n",
    "idx = is_pareto_efficient(data)\n",
    "sort = np.argsort(data[idx, 0])\n",
    "plt.step(data[idx, 0][sort], data[idx, 1][sort], linestyle='--', color='k', where='post')\n",
    "\n",
    "for i, instance_type in enumerate(df.config_st_instance_type.unique()):\n",
    "    sub_df = df[df['config_st_instance_type'] == instance_type]\n",
    "    plot_label = True\n",
    "    for j, model_type in enumerate(df.config_model_name_or_path.unique()):\n",
    "        \n",
    "        sub_sub_df = sub_df[sub_df['config_model_name_or_path'] == model_type]\n",
    "        x = sub_sub_df['latency']\n",
    "        y = 1 - sub_sub_df[metric_name]\n",
    "        if plot_label:\n",
    "            plt.scatter(x, y, color='C%d' % i, marker='o', label=instance_type)\n",
    "            plot_label = False\n",
    "        else:\n",
    "            plt.scatter(x, y, color='C%d' % i, marker='o')\n",
    "\n",
    "plt.ylabel('test error')\n",
    "plt.xlabel('latency (milliseconds)')\n",
    "plt.legend()\n",
    "plt.show()\n"
   ]
  },
  {
   "cell_type": "code",
   "execution_count": 22,
   "id": "3113141c",
   "metadata": {},
   "outputs": [
    {
     "data": {
      "image/png": "[encoded data removed]",
      "text/plain": [
       "<Figure size 1200x800 with 1 Axes>"
      ]
     },
     "metadata": {
      "needs_background": "light"
     },
     "output_type": "display_data"
    }
   ],
   "source": [
    "plt.figure(dpi=200)\n",
    "\n",
    "x = df[ST_WORKER_COST]\n",
    "y = df['latency']\n",
    "\n",
    "data = np.array([x, y]).T\n",
    "idx = is_pareto_efficient(data)\n",
    "sort = np.argsort(data[idx, 0])\n",
    "plt.step(data[idx, 0][sort], data[idx, 1][sort], linestyle='--', color='k', where='post')\n",
    "\n",
    "for i, instance_type in enumerate(df.config_st_instance_type.unique()):\n",
    "    sub_df = df[df['config_st_instance_type'] == instance_type]\n",
    "    plot_label = True\n",
    "    for j, model_type in enumerate(df.config_model_name_or_path.unique()):\n",
    "        \n",
    "        sub_sub_df = sub_df[sub_df['config_model_name_or_path'] == model_type]\n",
    "        x = sub_sub_df[ST_WORKER_COST]\n",
    "        y = sub_sub_df['latency']\n",
    "        \n",
    "        if plot_label:\n",
    "            plt.scatter(x, y, color='C%d' % i, marker='o', label=instance_type)\n",
    "            plot_label = False\n",
    "        else:\n",
    "            plt.scatter(x, y, color='C%d' % i, marker='o')\n",
    "\n",
    "plt.ylabel('latency')\n",
    "plt.xlabel('cost (Dollar)')\n",
    "plt.legend()\n",
    "plt.xlim(0.01, 0.12)\n",
    "plt.ylim(4, 15)\n",
    "plt.show()\n"
   ]
  }
 ],
 "metadata": {
  "kernelspec": {
   "display_name": "conda_python3",
   "language": "python",
   "name": "conda_python3"
  },
  "language_info": {
   "codemirror_mode": {
    "name": "ipython",
    "version": 3
   },
   "file_extension": ".py",
   "mimetype": "text/x-python",
   "name": "python",
   "nbconvert_exporter": "python",
   "pygments_lexer": "ipython3",
   "version": "3.6.13"
  }
 },
 "nbformat": 4,
 "nbformat_minor": 5
}
